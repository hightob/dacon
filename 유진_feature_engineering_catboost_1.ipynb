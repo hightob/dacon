{
  "cells": [
    {
      "cell_type": "markdown",
      "metadata": {
        "id": "view-in-github",
        "colab_type": "text"
      },
      "source": [
        "<a href=\"https://colab.research.google.com/github/lyj7518/dacon/blob/main/%EC%9C%A0%EC%A7%84_feature_engineering_catboost_1.ipynb\" target=\"_parent\"><img src=\"https://colab.research.google.com/assets/colab-badge.svg\" alt=\"Open In Colab\"/></a>"
      ]
    },
    {
      "cell_type": "markdown",
      "source": [
        "# #1. [person_prefer_d_2_attribute_d_m] 제거"
      ],
      "metadata": {
        "id": "NfKJR2hA2O15"
      }
    },
    {
      "cell_type": "code",
      "execution_count": 2,
      "metadata": {
        "colab": {
          "base_uri": "https://localhost:8080/"
        },
        "id": "Y01doXFJ9k7i",
        "outputId": "a6e1582e-e8a6-4994-e6fb-b0f94c6184c1"
      },
      "outputs": [
        {
          "output_type": "stream",
          "name": "stdout",
          "text": [
            "Drive already mounted at /content/drive; to attempt to forcibly remount, call drive.mount(\"/content/drive\", force_remount=True).\n"
          ]
        }
      ],
      "source": [
        "from google import colab\n",
        "colab.drive.mount(\"/content/drive\")"
      ]
    },
    {
      "cell_type": "code",
      "execution_count": 3,
      "metadata": {
        "colab": {
          "base_uri": "https://localhost:8080/"
        },
        "id": "TvHYIvzME9zG",
        "outputId": "4f9f0ebb-c2f8-450a-a007-992b6a7782d6"
      },
      "outputs": [
        {
          "output_type": "stream",
          "name": "stdout",
          "text": [
            "Requirement already satisfied: catboost in /usr/local/lib/python3.7/dist-packages (1.0.3)\n",
            "Requirement already satisfied: graphviz in /usr/local/lib/python3.7/dist-packages (from catboost) (0.10.1)\n",
            "Requirement already satisfied: matplotlib in /usr/local/lib/python3.7/dist-packages (from catboost) (3.2.2)\n",
            "Requirement already satisfied: pandas>=0.24.0 in /usr/local/lib/python3.7/dist-packages (from catboost) (1.1.5)\n",
            "Requirement already satisfied: scipy in /usr/local/lib/python3.7/dist-packages (from catboost) (1.4.1)\n",
            "Requirement already satisfied: six in /usr/local/lib/python3.7/dist-packages (from catboost) (1.15.0)\n",
            "Requirement already satisfied: plotly in /usr/local/lib/python3.7/dist-packages (from catboost) (4.4.1)\n",
            "Requirement already satisfied: numpy>=1.16.0 in /usr/local/lib/python3.7/dist-packages (from catboost) (1.19.5)\n",
            "Requirement already satisfied: python-dateutil>=2.7.3 in /usr/local/lib/python3.7/dist-packages (from pandas>=0.24.0->catboost) (2.8.2)\n",
            "Requirement already satisfied: pytz>=2017.2 in /usr/local/lib/python3.7/dist-packages (from pandas>=0.24.0->catboost) (2018.9)\n",
            "Requirement already satisfied: kiwisolver>=1.0.1 in /usr/local/lib/python3.7/dist-packages (from matplotlib->catboost) (1.3.2)\n",
            "Requirement already satisfied: pyparsing!=2.0.4,!=2.1.2,!=2.1.6,>=2.0.1 in /usr/local/lib/python3.7/dist-packages (from matplotlib->catboost) (3.0.6)\n",
            "Requirement already satisfied: cycler>=0.10 in /usr/local/lib/python3.7/dist-packages (from matplotlib->catboost) (0.11.0)\n",
            "Requirement already satisfied: retrying>=1.3.3 in /usr/local/lib/python3.7/dist-packages (from plotly->catboost) (1.3.3)\n"
          ]
        }
      ],
      "source": [
        "!pip install catboost"
      ]
    },
    {
      "cell_type": "code",
      "execution_count": 4,
      "metadata": {
        "id": "6-oIIusbFGIt"
      },
      "outputs": [],
      "source": [
        "import os\n",
        "import sys\n",
        "import platform\n",
        "import random\n",
        "import math\n",
        "from typing import List ,Dict, Tuple\n",
        "\n",
        "import pandas as pd\n",
        "import numpy as np\n",
        " \n",
        "import sklearn \n",
        "from sklearn.model_selection import StratifiedKFold , KFold\n",
        "from sklearn.metrics import f1_score \n",
        "import optuna\n",
        "\n",
        "from catboost import Pool,CatBoostClassifier"
      ]
    },
    {
      "cell_type": "code",
      "execution_count": 5,
      "metadata": {
        "colab": {
          "base_uri": "https://localhost:8080/"
        },
        "id": "Is6THnUHlt0y",
        "outputId": "0cf5c361-726c-4ff2-b390-27471320389a"
      },
      "outputs": [
        {
          "output_type": "execute_result",
          "data": {
            "text/plain": [
              "((501951, 35), (46404, 34))"
            ]
          },
          "metadata": {},
          "execution_count": 5
        }
      ],
      "source": [
        "train_data = pd.read_csv('/content/drive/MyDrive/Jobcare_data/train.csv')\n",
        "test_data = pd.read_csv('/content/drive/MyDrive/Jobcare_data/test.csv')\n",
        "SEED = 14\n",
        "code_d = pd.read_csv('/content/drive/MyDrive/Jobcare_data/속성_D_코드.csv').iloc[:,:-1]\n",
        "code_h = pd.read_csv('/content/drive/MyDrive/Jobcare_data/속성_H_코드.csv')\n",
        "code_l = pd.read_csv('/content/drive/MyDrive/Jobcare_data/속성_L_코드.csv')\n",
        "\n",
        "train_data.shape , test_data.shape"
      ]
    },
    {
      "cell_type": "code",
      "execution_count": 6,
      "metadata": {
        "id": "Wk33mr0Tma0t"
      },
      "outputs": [],
      "source": [
        "code_d.columns= [\"attribute_d\",\"attribute_d_d\",\"attribute_d_s\",\"attribute_d_m\"]\n",
        "code_h.columns= [\"attribute_h\",\"attribute_h_m\",\"attribute_h_l\"]\n",
        "code_l.columns= [\"attribute_l\",\"attribute_l_d\",\"attribute_l_s\",\"attribute_l_m\",\"attribute_l_l\"]"
      ]
    },
    {
      "cell_type": "code",
      "execution_count": 7,
      "metadata": {
        "id": "KeG6GngAoh_a"
      },
      "outputs": [],
      "source": [
        "def merge_codes(df:pd.DataFrame,df_code:pd.DataFrame,col:str)->pd.DataFrame:  #매개변수의 타입이 data.frame\n",
        "#print(test.__annotations__) 참고로 import annotation해서 함수안 파라미터를 확인할 수 있다.\n",
        "    df = df.copy()\n",
        "    # df는 데이터 파일이 들어올 변수로 설정\n",
        "    df_code = df_code.copy()\n",
        "    # 다른 속성코드 데이터 로드\n",
        "    df_code = df_code.add_prefix(f\"{col}_\")\n",
        "    # 로드 데이터 마다 col명을 달고 인덱스를 시작하고자 ex) col_1  col_2 이런식\n",
        "    df_code.columns.values[0] = col # col = attribute_l 이런 식으로 큰 이름만 따온다.\n",
        "    return pd.merge(df,df_code,how=\"left\",on=col) \n",
        "    # col기준으로 left조인, left는 df// 따라서 df기준으로 조인\n",
        "\n",
        "def preprocess_data(\n",
        "                    df:pd.DataFrame,\n",
        "                    is_train:bool = True,\n",
        "                    cols_merge:List[Tuple[str,pd.DataFrame]] = []  ,\n",
        "                    cols_equi:List[Tuple[str,str]]= [] ,\n",
        "                    cols_drop:List[str] = [\"id\",\"person_prefer_f\",\"person_prefer_g\" ,\"contents_open_dt\", \"person_prefer_d_2_attribute_d_m\"]\n",
        "                    )->Tuple[pd.DataFrame,np.ndarray]: #Tuple형태로 리턴하겠다.\n",
        "    df = df.copy()\n",
        "\n",
        "    y_data = None\n",
        "    if is_train: # 처음에 value는 true이니 진행\n",
        "        y_data = df[\"target\"].to_numpy()\n",
        "        #numpy값으로 target값을 y_data에 저장\n",
        "        df = df.drop(columns=\"target\")\n",
        "        #target컬럼 제거\n",
        "\n",
        "    for col, df_code in cols_merge:\n",
        "        df = merge_codes(df,df_code,col)\n",
        "        #left 조인함\n",
        "\n",
        "    cols = df.select_dtypes(bool).columns.tolist()\n",
        "    df[cols] = df[cols].astype(int)\n",
        "\n",
        "    for col1, col2 in cols_equi:\n",
        "        df[f\"{col1}_{col2}\"] = (df[col1] == df[col2] ).astype(int)\n",
        "\n",
        "    df = df.drop(columns=cols_drop)\n",
        "    return (df , y_data)\n",
        "    #하나로 다 합쳐서 조인함"
      ]
    },
    {
      "cell_type": "code",
      "execution_count": 8,
      "metadata": {
        "id": "Zpe1y_INmh2J"
      },
      "outputs": [],
      "source": [
        "# 이 부분 유진이랑 수정하기\n",
        "\n",
        "# 소분류 중분류 대분류 속성코드 merge 컬럼명 및 데이터 프레임 리스트\n",
        "cols_merge = [\n",
        "              (\"person_prefer_d_1\" , code_d),\n",
        "              (\"person_prefer_d_2\" , code_d),\n",
        "              (\"person_prefer_d_3\" , code_d),\n",
        "              (\"contents_attribute_d\" , code_d),\n",
        "              (\"person_prefer_h_1\" , code_h),\n",
        "              (\"person_prefer_h_2\" , code_h),\n",
        "              (\"person_prefer_h_3\" , code_h),\n",
        "              (\"contents_attribute_h\" , code_h),\n",
        "              (\"contents_attribute_l\" , code_l),\n",
        "]\n",
        "\n",
        "# 회원 속성과 콘텐츠 속성의 동일한 코드 여부에 대한 컬럼명 리스트\n",
        "cols_equi = [\n",
        "\n",
        "    (\"contents_attribute_c\",\"person_prefer_c\"),\n",
        "    (\"contents_attribute_e\",\"person_prefer_e\"),\n",
        "\n",
        "    (\"person_prefer_d_2_attribute_d_s\" , \"contents_attribute_d_attribute_d_s\"),\n",
        "    (\"person_prefer_d_2_attribute_d_m\" , \"contents_attribute_d_attribute_d_m\"),\n",
        "    (\"person_prefer_d_2_attribute_d_d\" , \"contents_attribute_d_attribute_d_d\"),\n",
        "    (\"person_prefer_d_3_attribute_d_s\" , \"contents_attribute_d_attribute_d_s\"),\n",
        "    (\"person_prefer_d_3_attribute_d_m\" , \"contents_attribute_d_attribute_d_m\"),\n",
        "    (\"person_prefer_d_3_attribute_d_d\" , \"contents_attribute_d_attribute_d_d\"),\n",
        "\n",
        "    (\"person_prefer_h_1_attribute_h_m\" , \"contents_attribute_h_attribute_h_m\"),#attribute_h_m ,l,none\n",
        "    (\"person_prefer_h_1_attribute_h_l\" , \"contents_attribute_h_attribute_h_l\"),\n",
        "    (\"person_prefer_h_2_attribute_h_m\" , \"contents_attribute_h_attribute_h_m\"),\n",
        "    (\"person_prefer_h_3_attribute_h_m\" , \"contents_attribute_h_attribute_h_m\"),\n",
        "    (\"person_prefer_h_2_attribute_h_l\" , \"contents_attribute_h_attribute_h_l\"),\n",
        "    (\"person_prefer_h_3_attribute_h_l\" , \"contents_attribute_h_attribute_h_l\"),\n",
        "\n",
        "]\n",
        "\n",
        "# 학습에 필요없는 컬럼 리스트\n",
        "cols_drop = [\"id\",\"person_prefer_f\",\"person_prefer_g\" ,\"contents_open_dt\", \"person_prefer_d_2_attribute_d_m\" ]"
      ]
    },
    {
      "cell_type": "code",
      "execution_count": 9,
      "metadata": {
        "id": "oZ9q8fIldsHg"
      },
      "outputs": [],
      "source": [
        "# 소분류 중분류 대분류 속성코드 merge 컬럼명 및 데이터 프레임 리스트\n",
        "cols_merge = [\n",
        "              (\"person_prefer_d_1\" , code_d),\n",
        "              (\"person_prefer_d_2\" , code_d),\n",
        "              (\"person_prefer_d_3\" , code_d),\n",
        "              (\"contents_attribute_d\" , code_d),\n",
        "              (\"person_prefer_h_1\" , code_h),\n",
        "              (\"person_prefer_h_2\" , code_h),\n",
        "              (\"person_prefer_h_3\" , code_h),\n",
        "              (\"contents_attribute_h\" , code_h),\n",
        "              (\"contents_attribute_l\" , code_l),\n",
        "]\n",
        "\n",
        "# 회원 속성과 콘텐츠 속성의 동일한 코드 여부에 대한 컬럼명 리스트\n",
        "cols_equi = [\n",
        "\n",
        "    (\"contents_attribute_c\",\"person_prefer_c\"),\n",
        "    (\"contents_attribute_e\",\"person_prefer_e\"),\n",
        "\n",
        "    (\"person_prefer_d_2_attribute_d_s\" , \"contents_attribute_d_attribute_d_s\"),\n",
        "    (\"person_prefer_d_2_attribute_d_m\" , \"contents_attribute_d_attribute_d_m\"),\n",
        "    (\"person_prefer_d_2_attribute_d_d\" , \"contents_attribute_d_attribute_d_d\"),\n",
        "    (\"person_prefer_d_3_attribute_d_s\" , \"contents_attribute_d_attribute_d_s\"),\n",
        "    (\"person_prefer_d_3_attribute_d_m\" , \"contents_attribute_d_attribute_d_m\"),\n",
        "    (\"person_prefer_d_3_attribute_d_d\" , \"contents_attribute_d_attribute_d_d\"),\n",
        "\n",
        "    (\"person_prefer_h_1_attribute_h_m\" , \"contents_attribute_h_attribute_h_m\"),#attribute_h_m ,l,none\n",
        "    (\"person_prefer_h_1_attribute_h_l\" , \"contents_attribute_h_attribute_h_l\"),\n",
        "    (\"person_prefer_h_2_attribute_h_m\" , \"contents_attribute_h_attribute_h_m\"),\n",
        "    (\"person_prefer_h_3_attribute_h_m\" , \"contents_attribute_h_attribute_h_m\"),\n",
        "    (\"person_prefer_h_2_attribute_h_l\" , \"contents_attribute_h_attribute_h_l\"),\n",
        "    (\"person_prefer_h_3_attribute_h_l\" , \"contents_attribute_h_attribute_h_l\"),\n",
        "\n",
        "]\n",
        "\n",
        "# 학습에 필요없는 컬럼 리스트\n",
        "cols_drop = [\"id\",\"person_prefer_f\",\"person_prefer_g\", \"contents_open_dt\", \"person_prefer_d_2_attribute_d_m\" ]"
      ]
    },
    {
      "cell_type": "code",
      "execution_count": 10,
      "metadata": {
        "colab": {
          "base_uri": "https://localhost:8080/"
        },
        "id": "FCWijKrHmpsC",
        "outputId": "ef33c63a-9d20-492d-f4c9-7eaee2f272de"
      },
      "outputs": [
        {
          "output_type": "execute_result",
          "data": {
            "text/plain": [
              "((501951, 67), (501951,), (46404, 67))"
            ]
          },
          "metadata": {},
          "execution_count": 10
        }
      ],
      "source": [
        "x_train, y_train = preprocess_data(train_data, cols_merge = cols_merge , cols_equi= cols_equi , cols_drop = cols_drop)\n",
        "#데이터 조인해서 train_data를 x와 y로 분리\n",
        "x_test, _ = preprocess_data(test_data,is_train = False, cols_merge = cols_merge , cols_equi= cols_equi  , cols_drop = cols_drop)\n",
        "#test에서는 타겟 값이 없으니 _로 표기\n",
        "x_train.shape , y_train.shape , x_test.shape"
      ]
    },
    {
      "cell_type": "code",
      "execution_count": 11,
      "metadata": {
        "id": "rbzOVq_VpEcJ"
      },
      "outputs": [],
      "source": [
        "is_holdout = False\n",
        "#기존 train과 val데이터 분할 안함\n",
        "n_splits = 5\n",
        "#반복수\n",
        "patience = 50\n",
        "#최소 인내수\n",
        "cv = KFold(n_splits=n_splits, shuffle=True, random_state=SEED)\n",
        "#k-fold 5번 분할하고 교차 검증 진행하기 위함"
      ]
    },
    {
      "cell_type": "code",
      "execution_count": 12,
      "metadata": {
        "id": "CkICJZdr4azz"
      },
      "outputs": [],
      "source": [
        "cat_features = x_train.columns[x_train.nunique() > 2].tolist()\n",
        "#날짜나 선호 특성에 대한 값이 낮은것(범주가 최대 2개인것)들을 제외하기 위함 "
      ]
    },
    {
      "cell_type": "markdown",
      "source": [
        "### Optuna"
      ],
      "metadata": {
        "id": "4xdVs6sAkGF1"
      }
    },
    {
      "cell_type": "code",
      "execution_count": 14,
      "metadata": {
        "id": "If8N3XzqpC7I"
      },
      "outputs": [],
      "source": [
        "from sklearn.model_selection import train_test_split"
      ]
    },
    {
      "cell_type": "code",
      "source": [
        "! pip install optuna"
      ],
      "metadata": {
        "colab": {
          "base_uri": "https://localhost:8080/"
        },
        "id": "b3e7d4Wt4CIK",
        "outputId": "487d269b-45b3-4296-fdfd-fbd5c331332d"
      },
      "execution_count": 13,
      "outputs": [
        {
          "output_type": "stream",
          "name": "stdout",
          "text": [
            "Requirement already satisfied: optuna in /usr/local/lib/python3.7/dist-packages (2.10.0)\n",
            "Requirement already satisfied: PyYAML in /usr/local/lib/python3.7/dist-packages (from optuna) (3.13)\n",
            "Requirement already satisfied: cmaes>=0.8.2 in /usr/local/lib/python3.7/dist-packages (from optuna) (0.8.2)\n",
            "Requirement already satisfied: numpy in /usr/local/lib/python3.7/dist-packages (from optuna) (1.19.5)\n",
            "Requirement already satisfied: colorlog in /usr/local/lib/python3.7/dist-packages (from optuna) (6.6.0)\n",
            "Requirement already satisfied: scipy!=1.4.0 in /usr/local/lib/python3.7/dist-packages (from optuna) (1.4.1)\n",
            "Requirement already satisfied: alembic in /usr/local/lib/python3.7/dist-packages (from optuna) (1.7.5)\n",
            "Requirement already satisfied: tqdm in /usr/local/lib/python3.7/dist-packages (from optuna) (4.62.3)\n",
            "Requirement already satisfied: cliff in /usr/local/lib/python3.7/dist-packages (from optuna) (3.10.0)\n",
            "Requirement already satisfied: packaging>=20.0 in /usr/local/lib/python3.7/dist-packages (from optuna) (21.3)\n",
            "Requirement already satisfied: sqlalchemy>=1.1.0 in /usr/local/lib/python3.7/dist-packages (from optuna) (1.4.27)\n",
            "Requirement already satisfied: pyparsing!=3.0.5,>=2.0.2 in /usr/local/lib/python3.7/dist-packages (from packaging>=20.0->optuna) (3.0.6)\n",
            "Requirement already satisfied: importlib-metadata in /usr/local/lib/python3.7/dist-packages (from sqlalchemy>=1.1.0->optuna) (4.8.2)\n",
            "Requirement already satisfied: greenlet!=0.4.17 in /usr/local/lib/python3.7/dist-packages (from sqlalchemy>=1.1.0->optuna) (1.1.2)\n",
            "Requirement already satisfied: importlib-resources in /usr/local/lib/python3.7/dist-packages (from alembic->optuna) (5.4.0)\n",
            "Requirement already satisfied: Mako in /usr/local/lib/python3.7/dist-packages (from alembic->optuna) (1.1.6)\n",
            "Requirement already satisfied: pbr!=2.1.0,>=2.0.0 in /usr/local/lib/python3.7/dist-packages (from cliff->optuna) (5.8.0)\n",
            "Requirement already satisfied: stevedore>=2.0.1 in /usr/local/lib/python3.7/dist-packages (from cliff->optuna) (3.5.0)\n",
            "Requirement already satisfied: PrettyTable>=0.7.2 in /usr/local/lib/python3.7/dist-packages (from cliff->optuna) (2.4.0)\n",
            "Requirement already satisfied: cmd2>=1.0.0 in /usr/local/lib/python3.7/dist-packages (from cliff->optuna) (2.3.3)\n",
            "Requirement already satisfied: autopage>=0.4.0 in /usr/local/lib/python3.7/dist-packages (from cliff->optuna) (0.4.0)\n",
            "Requirement already satisfied: typing-extensions in /usr/local/lib/python3.7/dist-packages (from cmd2>=1.0.0->cliff->optuna) (3.10.0.2)\n",
            "Requirement already satisfied: wcwidth>=0.1.7 in /usr/local/lib/python3.7/dist-packages (from cmd2>=1.0.0->cliff->optuna) (0.2.5)\n",
            "Requirement already satisfied: attrs>=16.3.0 in /usr/local/lib/python3.7/dist-packages (from cmd2>=1.0.0->cliff->optuna) (21.2.0)\n",
            "Requirement already satisfied: pyperclip>=1.6 in /usr/local/lib/python3.7/dist-packages (from cmd2>=1.0.0->cliff->optuna) (1.8.2)\n",
            "Requirement already satisfied: zipp>=0.5 in /usr/local/lib/python3.7/dist-packages (from importlib-metadata->sqlalchemy>=1.1.0->optuna) (3.6.0)\n",
            "Requirement already satisfied: MarkupSafe>=0.9.2 in /usr/local/lib/python3.7/dist-packages (from Mako->alembic->optuna) (2.0.1)\n"
          ]
        }
      ]
    },
    {
      "cell_type": "code",
      "execution_count": 14,
      "metadata": {
        "id": "ulJI_E8SpG6d"
      },
      "outputs": [],
      "source": [
        "# create trial function\n",
        "OPTUNA_OPTIMIZATION = True\n",
        "\n",
        "def objective(trial):\n",
        "    train_x, valid_x, train_y, valid_y = train_test_split(x_train,y_train, test_size=0.3)\n",
        "    \n",
        "    params = {\n",
        "        'iterations':trial.suggest_int(\"iterations\", 500, 3000),\n",
        "        'objective':trial.suggest_categorical('objcetive',['CrossEntropy','Logloss']),\n",
        "        'bootstrap_type':trial.suggest_categorical('bootstrap_type', ['Bayesian', 'Bernoulli', 'MVS']),\n",
        "        'od_wait':trial.suggest_int('od_wait', 500, 1000),\n",
        "        #The number of iterations to continue the training early_stopping_rounds같은거 \n",
        "        'learning_rate' : trial.suggest_uniform('learning_rate',0.01,1),\n",
        "        'reg_lambda': trial.suggest_uniform('reg_lambda',1e-5,100),\n",
        "        'random_strength': trial.suggest_uniform('random_strength',20,50),\n",
        "        'depth': trial.suggest_int('depth',1,15),\n",
        "        'min_data_in_leaf': trial.suggest_int('min_data_in_leaf',1,20),\n",
        "        'leaf_estimation_iterations': trial.suggest_int('leaf_estimation_iterations',1,15),\n",
        "        'verbose': False,\n",
        "        \"eval_metric\":'F1',\n",
        "        \"one_hot_max_size\":trial.suggest_int(\"one_hot_max_size\",1,5),\n",
        "        'task_type' : 'GPU',\n",
        "    }\n",
        "    \n",
        "    if params['bootstrap_type'] == 'Bayesian':\n",
        "        params['bagging_temperature'] = trial.suggest_float('bagging_temperature', 0, 10)\n",
        "    elif params['bootstrap_type'] == 'Bernoulli':\n",
        "        params['subsample'] = trial.suggest_float('subsample', 0.1, 1)\n",
        "    \n",
        "    model = CatBoostClassifier(**params)\n",
        "    model.fit(\n",
        "        train_x, train_y, eval_set=[(valid_x, valid_y)],\n",
        "        #early_stopping_rounds=200,\n",
        "        use_best_model=True\n",
        "    )\n",
        "    \n",
        "    # validation prediction\n",
        "\n",
        "    preds = model.predict(valid_x)\n",
        "    pred_labels = np.rint(preds)\n",
        "    score = f1_score(valid_y, pred_labels)\n",
        "    return score"
      ]
    },
    {
      "cell_type": "code",
      "source": [
        "study = optuna.create_study(\n",
        "    direction='maximize',\n",
        "    study_name='CatbClf'\n",
        ")\n",
        "\n",
        "study.optimize(\n",
        "    objective, \n",
        "    n_trials=100\n",
        ")"
      ],
      "metadata": {
        "colab": {
          "base_uri": "https://localhost:8080/"
        },
        "id": "AI1VkeQC3cPI",
        "outputId": "d994ae3a-ba71-49a2-9108-f847b6138276"
      },
      "execution_count": 20,
      "outputs": [
        {
          "output_type": "stream",
          "name": "stderr",
          "text": [
            "\u001b[32m[I 2022-01-05 01:36:27,298]\u001b[0m A new study created in memory with name: CatbClf\u001b[0m\n",
            "\u001b[32m[I 2022-01-05 01:36:57,106]\u001b[0m Trial 0 finished with value: 0.6159132757592262 and parameters: {'iterations': 1605, 'objcetive': 'CrossEntropy', 'bootstrap_type': 'Bayesian', 'od_wait': 875, 'learning_rate': 0.6506696613378945, 'reg_lambda': 75.59032475007588, 'random_strength': 33.20882980414596, 'depth': 9, 'min_data_in_leaf': 2, 'leaf_estimation_iterations': 1, 'one_hot_max_size': 1, 'bagging_temperature': 9.411796153216915}. Best is trial 0 with value: 0.6159132757592262.\u001b[0m\n",
            "\u001b[32m[I 2022-01-05 01:37:47,813]\u001b[0m Trial 1 finished with value: 0.6274550168224541 and parameters: {'iterations': 1938, 'objcetive': 'CrossEntropy', 'bootstrap_type': 'Bernoulli', 'od_wait': 761, 'learning_rate': 0.49241792509974147, 'reg_lambda': 59.86125677654717, 'random_strength': 46.273045591259454, 'depth': 11, 'min_data_in_leaf': 4, 'leaf_estimation_iterations': 9, 'one_hot_max_size': 5, 'subsample': 0.8062891102245889}. Best is trial 1 with value: 0.6274550168224541.\u001b[0m\n",
            "\u001b[32m[I 2022-01-05 01:39:15,082]\u001b[0m Trial 2 finished with value: 0.6316161447424217 and parameters: {'iterations': 916, 'objcetive': 'Logloss', 'bootstrap_type': 'Bayesian', 'od_wait': 500, 'learning_rate': 0.22028461493368773, 'reg_lambda': 31.5009347671797, 'random_strength': 44.93174665867328, 'depth': 13, 'min_data_in_leaf': 2, 'leaf_estimation_iterations': 7, 'one_hot_max_size': 3, 'bagging_temperature': 0.567036668989741}. Best is trial 2 with value: 0.6316161447424217.\u001b[0m\n",
            "\u001b[32m[I 2022-01-05 01:39:34,637]\u001b[0m Trial 3 finished with value: 0.6295646157394357 and parameters: {'iterations': 1634, 'objcetive': 'Logloss', 'bootstrap_type': 'Bernoulli', 'od_wait': 764, 'learning_rate': 0.2210540084286862, 'reg_lambda': 1.770678875917936, 'random_strength': 32.91406846513584, 'depth': 2, 'min_data_in_leaf': 15, 'leaf_estimation_iterations': 5, 'one_hot_max_size': 4, 'subsample': 0.11454822964082005}. Best is trial 2 with value: 0.6316161447424217.\u001b[0m\n",
            "\u001b[32m[I 2022-01-05 01:40:30,650]\u001b[0m Trial 4 finished with value: 0.6207694794697706 and parameters: {'iterations': 2850, 'objcetive': 'Logloss', 'bootstrap_type': 'Bayesian', 'od_wait': 649, 'learning_rate': 0.23374535616697828, 'reg_lambda': 59.18405450145284, 'random_strength': 26.24010325964667, 'depth': 12, 'min_data_in_leaf': 17, 'leaf_estimation_iterations': 3, 'one_hot_max_size': 4, 'bagging_temperature': 4.048514900515582}. Best is trial 2 with value: 0.6316161447424217.\u001b[0m\n",
            "\u001b[32m[I 2022-01-05 01:41:07,544]\u001b[0m Trial 5 finished with value: 0.6120729209075693 and parameters: {'iterations': 822, 'objcetive': 'CrossEntropy', 'bootstrap_type': 'Bayesian', 'od_wait': 943, 'learning_rate': 0.5864456730136783, 'reg_lambda': 76.00819122415716, 'random_strength': 36.295976258689976, 'depth': 10, 'min_data_in_leaf': 9, 'leaf_estimation_iterations': 8, 'one_hot_max_size': 1, 'bagging_temperature': 5.725739086470838}. Best is trial 2 with value: 0.6316161447424217.\u001b[0m\n",
            "\u001b[32m[I 2022-01-05 01:41:27,253]\u001b[0m Trial 6 finished with value: 0.6365582901059126 and parameters: {'iterations': 2523, 'objcetive': 'Logloss', 'bootstrap_type': 'Bernoulli', 'od_wait': 575, 'learning_rate': 0.8364112890348285, 'reg_lambda': 8.61071204591511, 'random_strength': 20.895372006613155, 'depth': 3, 'min_data_in_leaf': 3, 'leaf_estimation_iterations': 4, 'one_hot_max_size': 3, 'subsample': 0.22201204874372704}. Best is trial 6 with value: 0.6365582901059126.\u001b[0m\n",
            "\u001b[32m[I 2022-01-05 01:45:48,432]\u001b[0m Trial 7 finished with value: 0.6226716407295579 and parameters: {'iterations': 884, 'objcetive': 'Logloss', 'bootstrap_type': 'Bernoulli', 'od_wait': 887, 'learning_rate': 0.35942322828794665, 'reg_lambda': 49.760814820365184, 'random_strength': 26.079944996198748, 'depth': 14, 'min_data_in_leaf': 4, 'leaf_estimation_iterations': 11, 'one_hot_max_size': 5, 'subsample': 0.6588859308336295}. Best is trial 6 with value: 0.6365582901059126.\u001b[0m\n",
            "\u001b[32m[I 2022-01-05 01:45:56,574]\u001b[0m Trial 8 finished with value: 0.6179157542793907 and parameters: {'iterations': 1659, 'objcetive': 'CrossEntropy', 'bootstrap_type': 'Bernoulli', 'od_wait': 671, 'learning_rate': 0.4019934527740167, 'reg_lambda': 91.2896576899143, 'random_strength': 27.14112623555385, 'depth': 1, 'min_data_in_leaf': 19, 'leaf_estimation_iterations': 2, 'one_hot_max_size': 4, 'subsample': 0.8507140659347903}. Best is trial 6 with value: 0.6365582901059126.\u001b[0m\n",
            "\u001b[32m[I 2022-01-05 01:46:21,834]\u001b[0m Trial 9 finished with value: 0.6383658856247802 and parameters: {'iterations': 2336, 'objcetive': 'CrossEntropy', 'bootstrap_type': 'Bernoulli', 'od_wait': 683, 'learning_rate': 0.21425476639103253, 'reg_lambda': 80.69716310943018, 'random_strength': 27.18168328117686, 'depth': 4, 'min_data_in_leaf': 19, 'leaf_estimation_iterations': 2, 'one_hot_max_size': 3, 'subsample': 0.1424566071807865}. Best is trial 9 with value: 0.6383658856247802.\u001b[0m\n",
            "\u001b[32m[I 2022-01-05 01:47:08,419]\u001b[0m Trial 10 finished with value: 0.6210256377296888 and parameters: {'iterations': 2170, 'objcetive': 'CrossEntropy', 'bootstrap_type': 'MVS', 'od_wait': 685, 'learning_rate': 0.02748746762918028, 'reg_lambda': 89.43429483225478, 'random_strength': 40.60943706435873, 'depth': 6, 'min_data_in_leaf': 12, 'leaf_estimation_iterations': 15, 'one_hot_max_size': 2}. Best is trial 9 with value: 0.6383658856247802.\u001b[0m\n",
            "\u001b[32m[I 2022-01-05 01:47:19,754]\u001b[0m Trial 11 finished with value: 0.62735295814186 and parameters: {'iterations': 2694, 'objcetive': 'Logloss', 'bootstrap_type': 'Bernoulli', 'od_wait': 537, 'learning_rate': 0.95569542439507, 'reg_lambda': 6.578490826487759, 'random_strength': 21.94561543290297, 'depth': 5, 'min_data_in_leaf': 8, 'leaf_estimation_iterations': 4, 'one_hot_max_size': 3, 'subsample': 0.16318016878882463}. Best is trial 9 with value: 0.6383658856247802.\u001b[0m\n",
            "\u001b[32m[I 2022-01-05 01:47:31,521]\u001b[0m Trial 12 finished with value: 0.6147768592921319 and parameters: {'iterations': 2396, 'objcetive': 'Logloss', 'bootstrap_type': 'MVS', 'od_wait': 607, 'learning_rate': 0.8984920505877539, 'reg_lambda': 25.80712864186708, 'random_strength': 20.438989993277676, 'depth': 4, 'min_data_in_leaf': 12, 'leaf_estimation_iterations': 5, 'one_hot_max_size': 2}. Best is trial 9 with value: 0.6383658856247802.\u001b[0m\n",
            "\u001b[32m[I 2022-01-05 01:47:46,881]\u001b[0m Trial 13 finished with value: 0.6307420268313622 and parameters: {'iterations': 2475, 'objcetive': 'CrossEntropy', 'bootstrap_type': 'Bernoulli', 'od_wait': 585, 'learning_rate': 0.7815115188316727, 'reg_lambda': 27.352484094686524, 'random_strength': 29.242519240574303, 'depth': 7, 'min_data_in_leaf': 20, 'leaf_estimation_iterations': 6, 'one_hot_max_size': 2, 'subsample': 0.39133843559465525}. Best is trial 9 with value: 0.6383658856247802.\u001b[0m\n",
            "\u001b[32m[I 2022-01-05 01:48:19,217]\u001b[0m Trial 14 finished with value: 0.6310498311675024 and parameters: {'iterations': 2996, 'objcetive': 'CrossEntropy', 'bootstrap_type': 'Bernoulli', 'od_wait': 736, 'learning_rate': 0.0336677583781686, 'reg_lambda': 43.77671184587412, 'random_strength': 23.097460530403122, 'depth': 3, 'min_data_in_leaf': 7, 'leaf_estimation_iterations': 2, 'one_hot_max_size': 3, 'subsample': 0.3335986425877982}. Best is trial 9 with value: 0.6383658856247802.\u001b[0m\n",
            "\u001b[32m[I 2022-01-05 01:48:31,273]\u001b[0m Trial 15 finished with value: 0.6368510861298754 and parameters: {'iterations': 2114, 'objcetive': 'Logloss', 'bootstrap_type': 'Bernoulli', 'od_wait': 575, 'learning_rate': 0.7643959744908879, 'reg_lambda': 15.682009082805052, 'random_strength': 28.89523342720638, 'depth': 4, 'min_data_in_leaf': 14, 'leaf_estimation_iterations': 1, 'one_hot_max_size': 2, 'subsample': 0.3178133717848795}. Best is trial 9 with value: 0.6383658856247802.\u001b[0m\n",
            "\u001b[32m[I 2022-01-05 01:48:52,501]\u001b[0m Trial 16 finished with value: 0.6227118882640101 and parameters: {'iterations': 1305, 'objcetive': 'Logloss', 'bootstrap_type': 'MVS', 'od_wait': 814, 'learning_rate': 0.6629523578438642, 'reg_lambda': 69.86035120685037, 'random_strength': 29.95178064710244, 'depth': 8, 'min_data_in_leaf': 16, 'leaf_estimation_iterations': 1, 'one_hot_max_size': 2}. Best is trial 9 with value: 0.6383658856247802.\u001b[0m\n",
            "\u001b[32m[I 2022-01-05 01:49:09,433]\u001b[0m Trial 17 finished with value: 0.6341332309464387 and parameters: {'iterations': 2082, 'objcetive': 'CrossEntropy', 'bootstrap_type': 'Bernoulli', 'od_wait': 637, 'learning_rate': 0.7488836812193775, 'reg_lambda': 97.49230896947984, 'random_strength': 36.81689058213421, 'depth': 5, 'min_data_in_leaf': 13, 'leaf_estimation_iterations': 12, 'one_hot_max_size': 1, 'subsample': 0.43575665203975955}. Best is trial 9 with value: 0.6383658856247802.\u001b[0m\n",
            "\u001b[32m[I 2022-01-05 01:49:29,655]\u001b[0m Trial 18 finished with value: 0.6131977453959843 and parameters: {'iterations': 2224, 'objcetive': 'CrossEntropy', 'bootstrap_type': 'Bernoulli', 'od_wait': 703, 'learning_rate': 0.4872380832785491, 'reg_lambda': 38.819690989052674, 'random_strength': 31.18681137739527, 'depth': 1, 'min_data_in_leaf': 18, 'leaf_estimation_iterations': 3, 'one_hot_max_size': 2, 'subsample': 0.549257969059763}. Best is trial 9 with value: 0.6383658856247802.\u001b[0m\n",
            "\u001b[32m[I 2022-01-05 01:49:45,065]\u001b[0m Trial 19 finished with value: 0.6198582015334767 and parameters: {'iterations': 1395, 'objcetive': 'Logloss', 'bootstrap_type': 'MVS', 'od_wait': 535, 'learning_rate': 0.12534279410310262, 'reg_lambda': 22.137668269095187, 'random_strength': 39.87671000001367, 'depth': 7, 'min_data_in_leaf': 14, 'leaf_estimation_iterations': 1, 'one_hot_max_size': 3}. Best is trial 9 with value: 0.6383658856247802.\u001b[0m\n",
            "\u001b[32m[I 2022-01-05 01:50:17,279]\u001b[0m Trial 20 finished with value: 0.6387218669015613 and parameters: {'iterations': 1981, 'objcetive': 'Logloss', 'bootstrap_type': 'Bernoulli', 'od_wait': 832, 'learning_rate': 0.3803216843846003, 'reg_lambda': 17.663376937175606, 'random_strength': 24.35977060825578, 'depth': 4, 'min_data_in_leaf': 17, 'leaf_estimation_iterations': 9, 'one_hot_max_size': 4, 'subsample': 0.26776567585880895}. Best is trial 20 with value: 0.6387218669015613.\u001b[0m\n",
            "\u001b[32m[I 2022-01-05 01:50:45,665]\u001b[0m Trial 21 finished with value: 0.6406563238204686 and parameters: {'iterations': 1922, 'objcetive': 'Logloss', 'bootstrap_type': 'Bernoulli', 'od_wait': 823, 'learning_rate': 0.37479272659786844, 'reg_lambda': 19.219225726173597, 'random_strength': 24.441698412073634, 'depth': 4, 'min_data_in_leaf': 17, 'leaf_estimation_iterations': 10, 'one_hot_max_size': 4, 'subsample': 0.2703865778060666}. Best is trial 21 with value: 0.6406563238204686.\u001b[0m\n",
            "\u001b[32m[I 2022-01-05 01:51:16,359]\u001b[0m Trial 22 finished with value: 0.6409687545953826 and parameters: {'iterations': 1933, 'objcetive': 'Logloss', 'bootstrap_type': 'Bernoulli', 'od_wait': 811, 'learning_rate': 0.35111017031488523, 'reg_lambda': 16.964087332416494, 'random_strength': 24.21263426962522, 'depth': 5, 'min_data_in_leaf': 20, 'leaf_estimation_iterations': 10, 'one_hot_max_size': 4, 'subsample': 0.25597129080169845}. Best is trial 22 with value: 0.6409687545953826.\u001b[0m\n",
            "\u001b[32m[I 2022-01-05 01:51:48,319]\u001b[0m Trial 23 finished with value: 0.6381469889851067 and parameters: {'iterations': 1808, 'objcetive': 'Logloss', 'bootstrap_type': 'Bernoulli', 'od_wait': 822, 'learning_rate': 0.361732186022724, 'reg_lambda': 16.048009280845367, 'random_strength': 23.30344341761101, 'depth': 6, 'min_data_in_leaf': 17, 'leaf_estimation_iterations': 10, 'one_hot_max_size': 4, 'subsample': 0.29606949262339227}. Best is trial 22 with value: 0.6409687545953826.\u001b[0m\n",
            "\u001b[32m[I 2022-01-05 01:52:09,004]\u001b[0m Trial 24 finished with value: 0.6378686575559618 and parameters: {'iterations': 1268, 'objcetive': 'Logloss', 'bootstrap_type': 'Bernoulli', 'od_wait': 996, 'learning_rate': 0.4229764472427089, 'reg_lambda': 36.513258538946005, 'random_strength': 24.396755486371838, 'depth': 3, 'min_data_in_leaf': 20, 'leaf_estimation_iterations': 13, 'one_hot_max_size': 5, 'subsample': 0.48844799208769024}. Best is trial 22 with value: 0.6409687545953826.\u001b[0m\n",
            "\u001b[32m[I 2022-01-05 01:52:39,028]\u001b[0m Trial 25 finished with value: 0.6385019761329189 and parameters: {'iterations': 1922, 'objcetive': 'Logloss', 'bootstrap_type': 'Bernoulli', 'od_wait': 824, 'learning_rate': 0.29709033590424144, 'reg_lambda': 14.649660016919164, 'random_strength': 24.39612172913482, 'depth': 6, 'min_data_in_leaf': 16, 'leaf_estimation_iterations': 9, 'one_hot_max_size': 4, 'subsample': 0.2416538027243471}. Best is trial 22 with value: 0.6409687545953826.\u001b[0m\n",
            "\u001b[32m[I 2022-01-05 01:52:50,116]\u001b[0m Trial 26 finished with value: 0.6347934438799963 and parameters: {'iterations': 589, 'objcetive': 'Logloss', 'bootstrap_type': 'Bernoulli', 'od_wait': 872, 'learning_rate': 0.5582091028424803, 'reg_lambda': 19.060514594730112, 'random_strength': 25.170256864622534, 'depth': 2, 'min_data_in_leaf': 18, 'leaf_estimation_iterations': 13, 'one_hot_max_size': 4, 'subsample': 0.9951821464419732}. Best is trial 22 with value: 0.6409687545953826.\u001b[0m\n",
            "\u001b[32m[I 2022-01-05 01:53:19,187]\u001b[0m Trial 27 finished with value: 0.6331808731808731 and parameters: {'iterations': 1496, 'objcetive': 'Logloss', 'bootstrap_type': 'Bernoulli', 'od_wait': 914, 'learning_rate': 0.2935582726587816, 'reg_lambda': 0.44145926565110116, 'random_strength': 48.951389447935185, 'depth': 8, 'min_data_in_leaf': 11, 'leaf_estimation_iterations': 10, 'one_hot_max_size': 5, 'subsample': 0.37713652656370333}. Best is trial 22 with value: 0.6409687545953826.\u001b[0m\n",
            "\u001b[32m[I 2022-01-05 01:53:54,886]\u001b[0m Trial 28 finished with value: 0.6301549371772143 and parameters: {'iterations': 1888, 'objcetive': 'Logloss', 'bootstrap_type': 'Bayesian', 'od_wait': 796, 'learning_rate': 0.1352689275163301, 'reg_lambda': 10.410336229303834, 'random_strength': 32.385664407756096, 'depth': 5, 'min_data_in_leaf': 20, 'leaf_estimation_iterations': 8, 'one_hot_max_size': 4, 'bagging_temperature': 9.422079433556128}. Best is trial 22 with value: 0.6409687545953826.\u001b[0m\n",
            "\u001b[32m[I 2022-01-05 01:54:24,122]\u001b[0m Trial 29 finished with value: 0.6201679050468011 and parameters: {'iterations': 1148, 'objcetive': 'Logloss', 'bootstrap_type': 'MVS', 'od_wait': 875, 'learning_rate': 0.4397821281521348, 'reg_lambda': 30.19692912728784, 'random_strength': 20.025705090519438, 'depth': 8, 'min_data_in_leaf': 16, 'leaf_estimation_iterations': 11, 'one_hot_max_size': 5}. Best is trial 22 with value: 0.6409687545953826.\u001b[0m\n",
            "\u001b[32m[I 2022-01-05 01:54:53,924]\u001b[0m Trial 30 finished with value: 0.6358765154227838 and parameters: {'iterations': 1757, 'objcetive': 'Logloss', 'bootstrap_type': 'Bayesian', 'od_wait': 848, 'learning_rate': 0.6450506629955185, 'reg_lambda': 38.416834080166616, 'random_strength': 34.07922814015523, 'depth': 2, 'min_data_in_leaf': 18, 'leaf_estimation_iterations': 15, 'one_hot_max_size': 4, 'bagging_temperature': 0.7395301461703339}. Best is trial 22 with value: 0.6409687545953826.\u001b[0m\n",
            "\u001b[32m[I 2022-01-05 01:55:22,477]\u001b[0m Trial 31 finished with value: 0.6374811825373947 and parameters: {'iterations': 1982, 'objcetive': 'Logloss', 'bootstrap_type': 'Bernoulli', 'od_wait': 791, 'learning_rate': 0.3063845950056666, 'reg_lambda': 13.25536688674865, 'random_strength': 23.19728010409008, 'depth': 6, 'min_data_in_leaf': 16, 'leaf_estimation_iterations': 9, 'one_hot_max_size': 4, 'subsample': 0.21725522673101172}. Best is trial 22 with value: 0.6409687545953826.\u001b[0m\n",
            "\u001b[32m[I 2022-01-05 01:55:56,011]\u001b[0m Trial 32 finished with value: 0.6387403104490583 and parameters: {'iterations': 1996, 'objcetive': 'Logloss', 'bootstrap_type': 'Bernoulli', 'od_wait': 835, 'learning_rate': 0.3184576127391779, 'reg_lambda': 23.61619470650463, 'random_strength': 28.553620023175586, 'depth': 5, 'min_data_in_leaf': 15, 'leaf_estimation_iterations': 9, 'one_hot_max_size': 4, 'subsample': 0.25247386985100156}. Best is trial 22 with value: 0.6409687545953826.\u001b[0m\n",
            "\u001b[32m[I 2022-01-05 01:56:23,129]\u001b[0m Trial 33 finished with value: 0.6377395923330453 and parameters: {'iterations': 2019, 'objcetive': 'Logloss', 'bootstrap_type': 'Bernoulli', 'od_wait': 736, 'learning_rate': 0.5050851137753922, 'reg_lambda': 23.126922806394592, 'random_strength': 28.150319278453086, 'depth': 4, 'min_data_in_leaf': 14, 'leaf_estimation_iterations': 7, 'one_hot_max_size': 5, 'subsample': 0.2733518146374666}. Best is trial 22 with value: 0.6409687545953826.\u001b[0m\n",
            "\u001b[32m[I 2022-01-05 01:56:49,634]\u001b[0m Trial 34 finished with value: 0.6412927401666443 and parameters: {'iterations': 1548, 'objcetive': 'Logloss', 'bootstrap_type': 'Bernoulli', 'od_wait': 776, 'learning_rate': 0.3755313708321007, 'reg_lambda': 4.520925157358633, 'random_strength': 22.22611998496935, 'depth': 5, 'min_data_in_leaf': 18, 'leaf_estimation_iterations': 10, 'one_hot_max_size': 4, 'subsample': 0.45416847608927335}. Best is trial 34 with value: 0.6412927401666443.\u001b[0m\n",
            "\u001b[32m[I 2022-01-05 01:57:24,722]\u001b[0m Trial 35 finished with value: 0.6234357954180837 and parameters: {'iterations': 1575, 'objcetive': 'Logloss', 'bootstrap_type': 'Bernoulli', 'od_wait': 774, 'learning_rate': 0.4761080943998452, 'reg_lambda': 6.511123013792329, 'random_strength': 22.135999828325154, 'depth': 10, 'min_data_in_leaf': 19, 'leaf_estimation_iterations': 11, 'one_hot_max_size': 3, 'subsample': 0.46370458196079917}. Best is trial 34 with value: 0.6412927401666443.\u001b[0m\n",
            "\u001b[32m[I 2022-01-05 01:58:07,982]\u001b[0m Trial 36 finished with value: 0.632832862465972 and parameters: {'iterations': 1734, 'objcetive': 'Logloss', 'bootstrap_type': 'Bayesian', 'od_wait': 932, 'learning_rate': 0.1536816866955173, 'reg_lambda': 3.6399332198048686, 'random_strength': 31.016842747504416, 'depth': 7, 'min_data_in_leaf': 15, 'leaf_estimation_iterations': 10, 'one_hot_max_size': 5, 'bagging_temperature': 5.728452097468585}. Best is trial 34 with value: 0.6412927401666443.\u001b[0m\n",
            "\u001b[32m[I 2022-01-05 01:58:27,838]\u001b[0m Trial 37 finished with value: 0.64308080036658 and parameters: {'iterations': 1093, 'objcetive': 'Logloss', 'bootstrap_type': 'Bernoulli', 'od_wait': 756, 'learning_rate': 0.25406125187798667, 'reg_lambda': 31.868393800215117, 'random_strength': 26.19878711750422, 'depth': 5, 'min_data_in_leaf': 18, 'leaf_estimation_iterations': 8, 'one_hot_max_size': 4, 'subsample': 0.6154521588321262}. Best is trial 37 with value: 0.64308080036658.\u001b[0m\n",
            "\u001b[32m[I 2022-01-05 01:58:58,998]\u001b[0m Trial 38 finished with value: 0.6371118449683844 and parameters: {'iterations': 1137, 'objcetive': 'Logloss', 'bootstrap_type': 'Bernoulli', 'od_wait': 715, 'learning_rate': 0.25082397547058044, 'reg_lambda': 32.9287938008442, 'random_strength': 26.085198551422174, 'depth': 9, 'min_data_in_leaf': 18, 'leaf_estimation_iterations': 7, 'one_hot_max_size': 3, 'subsample': 0.6191431209843753}. Best is trial 37 with value: 0.64308080036658.\u001b[0m\n",
            "\u001b[32m[I 2022-01-05 01:59:14,614]\u001b[0m Trial 39 finished with value: 0.6260971028151225 and parameters: {'iterations': 988, 'objcetive': 'Logloss', 'bootstrap_type': 'Bayesian', 'od_wait': 758, 'learning_rate': 0.17006660646344846, 'reg_lambda': 53.638895841893884, 'random_strength': 21.665702827078423, 'depth': 3, 'min_data_in_leaf': 20, 'leaf_estimation_iterations': 8, 'one_hot_max_size': 4, 'bagging_temperature': 3.3641756695424947}. Best is trial 37 with value: 0.64308080036658.\u001b[0m\n",
            "\u001b[32m[I 2022-01-05 02:01:31,832]\u001b[0m Trial 40 finished with value: 0.6414249624252503 and parameters: {'iterations': 1487, 'objcetive': 'Logloss', 'bootstrap_type': 'Bernoulli', 'od_wait': 791, 'learning_rate': 0.07774229462692733, 'reg_lambda': 45.34942494843654, 'random_strength': 26.20129017129865, 'depth': 12, 'min_data_in_leaf': 1, 'leaf_estimation_iterations': 12, 'one_hot_max_size': 4, 'subsample': 0.6544525787633454}. Best is trial 37 with value: 0.64308080036658.\u001b[0m\n",
            "\u001b[32m[I 2022-01-05 02:11:02,556]\u001b[0m Trial 41 finished with value: 0.6341224468750202 and parameters: {'iterations': 1487, 'objcetive': 'Logloss', 'bootstrap_type': 'Bernoulli', 'od_wait': 780, 'learning_rate': 0.10651360755510064, 'reg_lambda': 48.04831687994278, 'random_strength': 26.837026782640653, 'depth': 15, 'min_data_in_leaf': 1, 'leaf_estimation_iterations': 12, 'one_hot_max_size': 4, 'subsample': 0.7005581938694162}. Best is trial 37 with value: 0.64308080036658.\u001b[0m\n",
            "\u001b[32m[I 2022-01-05 02:13:00,957]\u001b[0m Trial 42 finished with value: 0.6391285078394471 and parameters: {'iterations': 658, 'objcetive': 'Logloss', 'bootstrap_type': 'Bernoulli', 'od_wait': 743, 'learning_rate': 0.07404801382634772, 'reg_lambda': 43.188143293077836, 'random_strength': 23.317390335906474, 'depth': 13, 'min_data_in_leaf': 6, 'leaf_estimation_iterations': 14, 'one_hot_max_size': 4, 'subsample': 0.5468999260530711}. Best is trial 37 with value: 0.64308080036658.\u001b[0m\n",
            "\u001b[32m[I 2022-01-05 02:14:09,157]\u001b[0m Trial 43 finished with value: 0.6379334585937599 and parameters: {'iterations': 1636, 'objcetive': 'Logloss', 'bootstrap_type': 'Bernoulli', 'od_wait': 854, 'learning_rate': 0.20260797291697313, 'reg_lambda': 61.485281991223296, 'random_strength': 25.431278582019868, 'depth': 11, 'min_data_in_leaf': 10, 'leaf_estimation_iterations': 12, 'one_hot_max_size': 5, 'subsample': 0.7260052193518337}. Best is trial 37 with value: 0.64308080036658.\u001b[0m\n",
            "\u001b[32m[I 2022-01-05 02:15:04,698]\u001b[0m Trial 44 finished with value: 0.6295061672673814 and parameters: {'iterations': 1031, 'objcetive': 'Logloss', 'bootstrap_type': 'Bernoulli', 'od_wait': 807, 'learning_rate': 0.2528228591316066, 'reg_lambda': 33.17124227806918, 'random_strength': 27.150163711058656, 'depth': 11, 'min_data_in_leaf': 4, 'leaf_estimation_iterations': 10, 'one_hot_max_size': 4, 'subsample': 0.5872698346320663}. Best is trial 37 with value: 0.64308080036658.\u001b[0m\n",
            "\u001b[32m[I 2022-01-05 02:15:31,505]\u001b[0m Trial 45 finished with value: 0.6428338418436859 and parameters: {'iterations': 1359, 'objcetive': 'Logloss', 'bootstrap_type': 'Bernoulli', 'od_wait': 715, 'learning_rate': 0.3456763859841051, 'reg_lambda': 55.756200476151776, 'random_strength': 21.443654303389614, 'depth': 5, 'min_data_in_leaf': 19, 'leaf_estimation_iterations': 11, 'one_hot_max_size': 3, 'subsample': 0.8011670673154241}. Best is trial 37 with value: 0.64308080036658.\u001b[0m\n",
            "\u001b[32m[I 2022-01-05 02:15:58,095]\u001b[0m Trial 46 finished with value: 0.6364417980930871 and parameters: {'iterations': 1309, 'objcetive': 'Logloss', 'bootstrap_type': 'Bernoulli', 'od_wait': 660, 'learning_rate': 0.43738971600938464, 'reg_lambda': 58.49753688534854, 'random_strength': 22.318876714941393, 'depth': 7, 'min_data_in_leaf': 19, 'leaf_estimation_iterations': 13, 'one_hot_max_size': 3, 'subsample': 0.8093060654214755}. Best is trial 37 with value: 0.64308080036658.\u001b[0m\n",
            "\u001b[32m[I 2022-01-05 02:16:25,800]\u001b[0m Trial 47 finished with value: 0.6424256371900351 and parameters: {'iterations': 792, 'objcetive': 'Logloss', 'bootstrap_type': 'Bernoulli', 'od_wait': 714, 'learning_rate': 0.07708678425598894, 'reg_lambda': 54.879037808945924, 'random_strength': 21.024883929749066, 'depth': 9, 'min_data_in_leaf': 20, 'leaf_estimation_iterations': 11, 'one_hot_max_size': 3, 'subsample': 0.736388808727872}. Best is trial 37 with value: 0.64308080036658.\u001b[0m\n",
            "\u001b[32m[I 2022-01-05 02:18:51,648]\u001b[0m Trial 48 finished with value: 0.6262473599565966 and parameters: {'iterations': 808, 'objcetive': 'Logloss', 'bootstrap_type': 'MVS', 'od_wait': 638, 'learning_rate': 0.08985363621205127, 'reg_lambda': 64.63917229713817, 'random_strength': 20.647011649122135, 'depth': 13, 'min_data_in_leaf': 5, 'leaf_estimation_iterations': 12, 'one_hot_max_size': 3}. Best is trial 37 with value: 0.64308080036658.\u001b[0m\n",
            "\u001b[32m[I 2022-01-05 02:19:24,800]\u001b[0m Trial 49 finished with value: 0.6422564910319598 and parameters: {'iterations': 750, 'objcetive': 'CrossEntropy', 'bootstrap_type': 'Bernoulli', 'od_wait': 711, 'learning_rate': 0.04308245953650724, 'reg_lambda': 52.609188485414286, 'random_strength': 21.2821540319325, 'depth': 10, 'min_data_in_leaf': 9, 'leaf_estimation_iterations': 11, 'one_hot_max_size': 3, 'subsample': 0.7497114873485634}. Best is trial 37 with value: 0.64308080036658.\u001b[0m\n",
            "\u001b[32m[I 2022-01-05 02:20:00,806]\u001b[0m Trial 50 finished with value: 0.6425123240785675 and parameters: {'iterations': 735, 'objcetive': 'CrossEntropy', 'bootstrap_type': 'Bernoulli', 'od_wait': 711, 'learning_rate': 0.056827950287767603, 'reg_lambda': 53.95907774566383, 'random_strength': 21.129350724774607, 'depth': 10, 'min_data_in_leaf': 2, 'leaf_estimation_iterations': 14, 'one_hot_max_size': 3, 'subsample': 0.7532097562312401}. Best is trial 37 with value: 0.64308080036658.\u001b[0m\n",
            "\u001b[32m[I 2022-01-05 02:20:27,942]\u001b[0m Trial 51 finished with value: 0.6408440397329922 and parameters: {'iterations': 717, 'objcetive': 'CrossEntropy', 'bootstrap_type': 'Bernoulli', 'od_wait': 709, 'learning_rate': 0.053802436668439056, 'reg_lambda': 55.678770268095036, 'random_strength': 21.490880829251196, 'depth': 9, 'min_data_in_leaf': 2, 'leaf_estimation_iterations': 14, 'one_hot_max_size': 3, 'subsample': 0.7400960146011493}. Best is trial 37 with value: 0.64308080036658.\u001b[0m\n",
            "\u001b[32m[I 2022-01-05 02:21:08,581]\u001b[0m Trial 52 finished with value: 0.6250582802690153 and parameters: {'iterations': 830, 'objcetive': 'CrossEntropy', 'bootstrap_type': 'Bernoulli', 'od_wait': 687, 'learning_rate': 0.011230971500232029, 'reg_lambda': 45.98813571703908, 'random_strength': 20.188110255504753, 'depth': 10, 'min_data_in_leaf': 3, 'leaf_estimation_iterations': 14, 'one_hot_max_size': 3, 'subsample': 0.8654573877331566}. Best is trial 37 with value: 0.64308080036658.\u001b[0m\n",
            "\u001b[32m[I 2022-01-05 02:21:41,383]\u001b[0m Trial 53 finished with value: 0.6366397996210783 and parameters: {'iterations': 508, 'objcetive': 'CrossEntropy', 'bootstrap_type': 'Bernoulli', 'od_wait': 724, 'learning_rate': 0.18339221428979852, 'reg_lambda': 51.678259943622734, 'random_strength': 21.098548686075503, 'depth': 11, 'min_data_in_leaf': 1, 'leaf_estimation_iterations': 11, 'one_hot_max_size': 3, 'subsample': 0.7642788955024546}. Best is trial 37 with value: 0.64308080036658.\u001b[0m\n",
            "\u001b[32m[I 2022-01-05 02:23:15,505]\u001b[0m Trial 54 finished with value: 0.6412329329637614 and parameters: {'iterations': 921, 'objcetive': 'CrossEntropy', 'bootstrap_type': 'Bernoulli', 'od_wait': 694, 'learning_rate': 0.07423816265431607, 'reg_lambda': 67.66048272262034, 'random_strength': 36.610208908867975, 'depth': 12, 'min_data_in_leaf': 9, 'leaf_estimation_iterations': 13, 'one_hot_max_size': 3, 'subsample': 0.6626899121811878}. Best is trial 37 with value: 0.64308080036658.\u001b[0m\n",
            "\u001b[32m[I 2022-01-05 02:24:55,184]\u001b[0m Trial 55 finished with value: 0.631067589306233 and parameters: {'iterations': 1117, 'objcetive': 'CrossEntropy', 'bootstrap_type': 'Bernoulli', 'od_wait': 673, 'learning_rate': 0.011268704102476296, 'reg_lambda': 72.7840948489537, 'random_strength': 22.828502505802845, 'depth': 12, 'min_data_in_leaf': 4, 'leaf_estimation_iterations': 11, 'one_hot_max_size': 2, 'subsample': 0.9005079963822572}. Best is trial 37 with value: 0.64308080036658.\u001b[0m\n",
            "\u001b[32m[I 2022-01-05 02:25:25,357]\u001b[0m Trial 56 finished with value: 0.6427987638239726 and parameters: {'iterations': 769, 'objcetive': 'CrossEntropy', 'bootstrap_type': 'Bernoulli', 'od_wait': 754, 'learning_rate': 0.10190861175715779, 'reg_lambda': 42.52271692342673, 'random_strength': 25.33211011727337, 'depth': 9, 'min_data_in_leaf': 3, 'leaf_estimation_iterations': 15, 'one_hot_max_size': 3, 'subsample': 0.776937568281712}. Best is trial 37 with value: 0.64308080036658.\u001b[0m\n",
            "\u001b[32m[I 2022-01-05 02:25:56,632]\u001b[0m Trial 57 finished with value: 0.6258123221280742 and parameters: {'iterations': 746, 'objcetive': 'CrossEntropy', 'bootstrap_type': 'MVS', 'od_wait': 613, 'learning_rate': 0.11855220991490689, 'reg_lambda': 41.48048996983304, 'random_strength': 43.46254032314083, 'depth': 9, 'min_data_in_leaf': 3, 'leaf_estimation_iterations': 15, 'one_hot_max_size': 3}. Best is trial 37 with value: 0.64308080036658.\u001b[0m\n",
            "\u001b[32m[I 2022-01-05 02:26:21,707]\u001b[0m Trial 58 finished with value: 0.6400440297456771 and parameters: {'iterations': 628, 'objcetive': 'CrossEntropy', 'bootstrap_type': 'Bernoulli', 'od_wait': 757, 'learning_rate': 0.21888434616801905, 'reg_lambda': 79.4385954936168, 'random_strength': 21.32606859326437, 'depth': 9, 'min_data_in_leaf': 6, 'leaf_estimation_iterations': 15, 'one_hot_max_size': 2, 'subsample': 0.7812451178855194}. Best is trial 37 with value: 0.64308080036658.\u001b[0m\n",
            "\u001b[32m[I 2022-01-05 02:27:02,442]\u001b[0m Trial 59 finished with value: 0.6261913851449721 and parameters: {'iterations': 943, 'objcetive': 'CrossEntropy', 'bootstrap_type': 'Bayesian', 'od_wait': 656, 'learning_rate': 0.04692469342191453, 'reg_lambda': 56.98232829506974, 'random_strength': 23.539858714247877, 'depth': 10, 'min_data_in_leaf': 2, 'leaf_estimation_iterations': 6, 'one_hot_max_size': 3, 'bagging_temperature': 7.279358488620091}. Best is trial 37 with value: 0.64308080036658.\u001b[0m\n",
            "\u001b[32m[I 2022-01-05 02:27:19,569]\u001b[0m Trial 60 finished with value: 0.6409476200825908 and parameters: {'iterations': 520, 'objcetive': 'CrossEntropy', 'bootstrap_type': 'Bernoulli', 'od_wait': 717, 'learning_rate': 0.15301677681963236, 'reg_lambda': 62.71859981217498, 'random_strength': 25.299834188271852, 'depth': 8, 'min_data_in_leaf': 5, 'leaf_estimation_iterations': 14, 'one_hot_max_size': 3, 'subsample': 0.8170312443829079}. Best is trial 37 with value: 0.64308080036658.\u001b[0m\n",
            "\u001b[32m[I 2022-01-05 02:28:06,473]\u001b[0m Trial 61 finished with value: 0.642077255970508 and parameters: {'iterations': 1050, 'objcetive': 'CrossEntropy', 'bootstrap_type': 'Bernoulli', 'od_wait': 737, 'learning_rate': 0.09167710883551626, 'reg_lambda': 48.719876016986994, 'random_strength': 27.755191679121236, 'depth': 10, 'min_data_in_leaf': 1, 'leaf_estimation_iterations': 12, 'one_hot_max_size': 3, 'subsample': 0.6755590069095184}. Best is trial 37 with value: 0.64308080036658.\u001b[0m\n",
            "\u001b[32m[I 2022-01-05 02:28:54,931]\u001b[0m Trial 62 finished with value: 0.6433466992915615 and parameters: {'iterations': 1051, 'objcetive': 'CrossEntropy', 'bootstrap_type': 'Bernoulli', 'od_wait': 731, 'learning_rate': 0.10889480408470262, 'reg_lambda': 51.049918803391655, 'random_strength': 30.110752886098062, 'depth': 10, 'min_data_in_leaf': 2, 'leaf_estimation_iterations': 13, 'one_hot_max_size': 3, 'subsample': 0.667809663838668}. Best is trial 62 with value: 0.6433466992915615.\u001b[0m\n",
            "\u001b[32m[I 2022-01-05 02:29:35,653]\u001b[0m Trial 63 finished with value: 0.6429170905391658 and parameters: {'iterations': 856, 'objcetive': 'CrossEntropy', 'bootstrap_type': 'Bernoulli', 'od_wait': 752, 'learning_rate': 0.048026712252070725, 'reg_lambda': 51.49210737374822, 'random_strength': 30.99123623234532, 'depth': 10, 'min_data_in_leaf': 8, 'leaf_estimation_iterations': 14, 'one_hot_max_size': 3, 'subsample': 0.722616403879952}. Best is trial 62 with value: 0.6433466992915615.\u001b[0m\n",
            "\u001b[32m[I 2022-01-05 02:30:10,234]\u001b[0m Trial 64 finished with value: 0.6412645953026024 and parameters: {'iterations': 1202, 'objcetive': 'CrossEntropy', 'bootstrap_type': 'Bernoulli', 'od_wait': 749, 'learning_rate': 0.12968297294362077, 'reg_lambda': 40.34980866713798, 'random_strength': 29.882611467607596, 'depth': 8, 'min_data_in_leaf': 2, 'leaf_estimation_iterations': 14, 'one_hot_max_size': 3, 'subsample': 0.6148691477718192}. Best is trial 62 with value: 0.6433466992915615.\u001b[0m\n",
            "\u001b[32m[I 2022-01-05 02:30:43,703]\u001b[0m Trial 65 finished with value: 0.6438776482546136 and parameters: {'iterations': 853, 'objcetive': 'CrossEntropy', 'bootstrap_type': 'Bernoulli', 'od_wait': 724, 'learning_rate': 0.19553011930090503, 'reg_lambda': 54.88480291865749, 'random_strength': 32.193205512884965, 'depth': 9, 'min_data_in_leaf': 8, 'leaf_estimation_iterations': 15, 'one_hot_max_size': 2, 'subsample': 0.859602888268645}. Best is trial 65 with value: 0.6438776482546136.\u001b[0m\n",
            "\u001b[32m[I 2022-01-05 02:31:48,045]\u001b[0m Trial 66 finished with value: 0.6342246538748041 and parameters: {'iterations': 864, 'objcetive': 'CrossEntropy', 'bootstrap_type': 'Bernoulli', 'od_wait': 727, 'learning_rate': 0.26449484343998564, 'reg_lambda': 49.63270935505537, 'random_strength': 32.11873534864546, 'depth': 11, 'min_data_in_leaf': 11, 'leaf_estimation_iterations': 15, 'one_hot_max_size': 1, 'subsample': 0.881656721592767}. Best is trial 65 with value: 0.6438776482546136.\u001b[0m\n",
            "\u001b[32m[I 2022-01-05 02:32:29,364]\u001b[0m Trial 67 finished with value: 0.6412448568901649 and parameters: {'iterations': 1045, 'objcetive': 'CrossEntropy', 'bootstrap_type': 'Bernoulli', 'od_wait': 766, 'learning_rate': 0.1918328532419194, 'reg_lambda': 36.36162853421179, 'random_strength': 35.616160296959784, 'depth': 9, 'min_data_in_leaf': 8, 'leaf_estimation_iterations': 15, 'one_hot_max_size': 2, 'subsample': 0.934376407999536}. Best is trial 65 with value: 0.6438776482546136.\u001b[0m\n",
            "\u001b[32m[I 2022-01-05 02:32:58,700]\u001b[0m Trial 68 finished with value: 0.6191358776863531 and parameters: {'iterations': 935, 'objcetive': 'CrossEntropy', 'bootstrap_type': 'MVS', 'od_wait': 675, 'learning_rate': 0.1618415788546107, 'reg_lambda': 59.59535248099213, 'random_strength': 33.88373025307205, 'depth': 8, 'min_data_in_leaf': 7, 'leaf_estimation_iterations': 13, 'one_hot_max_size': 2}. Best is trial 65 with value: 0.6438776482546136.\u001b[0m\n",
            "\u001b[32m[I 2022-01-05 02:33:42,764]\u001b[0m Trial 69 finished with value: 0.6366650027518591 and parameters: {'iterations': 1363, 'objcetive': 'CrossEntropy', 'bootstrap_type': 'Bernoulli', 'od_wait': 694, 'learning_rate': 0.33336383542738524, 'reg_lambda': 65.67374409493283, 'random_strength': 37.99229521391412, 'depth': 10, 'min_data_in_leaf': 3, 'leaf_estimation_iterations': 14, 'one_hot_max_size': 1, 'subsample': 0.8225824084805381}. Best is trial 65 with value: 0.6438776482546136.\u001b[0m\n",
            "\u001b[32m[I 2022-01-05 02:34:48,341]\u001b[0m Trial 70 finished with value: 0.6348625267335889 and parameters: {'iterations': 1239, 'objcetive': 'CrossEntropy', 'bootstrap_type': 'Bernoulli', 'od_wait': 744, 'learning_rate': 0.2833115227061218, 'reg_lambda': 29.4404142970072, 'random_strength': 29.17215573577161, 'depth': 11, 'min_data_in_leaf': 8, 'leaf_estimation_iterations': 14, 'one_hot_max_size': 2, 'subsample': 0.7785078428375537}. Best is trial 65 with value: 0.6438776482546136.\u001b[0m\n",
            "\u001b[32m[I 2022-01-05 02:35:14,076]\u001b[0m Trial 71 finished with value: 0.6381515012019846 and parameters: {'iterations': 696, 'objcetive': 'CrossEntropy', 'bootstrap_type': 'Bernoulli', 'od_wait': 729, 'learning_rate': 0.2288686107189948, 'reg_lambda': 55.01797585480004, 'random_strength': 30.064171200543917, 'depth': 9, 'min_data_in_leaf': 5, 'leaf_estimation_iterations': 13, 'one_hot_max_size': 3, 'subsample': 0.697035114195998}. Best is trial 65 with value: 0.6438776482546136.\u001b[0m\n",
            "\u001b[32m[I 2022-01-05 02:35:44,639]\u001b[0m Trial 72 finished with value: 0.6437701003024996 and parameters: {'iterations': 790, 'objcetive': 'CrossEntropy', 'bootstrap_type': 'Bernoulli', 'od_wait': 770, 'learning_rate': 0.10887899221836385, 'reg_lambda': 46.848185358583194, 'random_strength': 30.5226987266222, 'depth': 9, 'min_data_in_leaf': 19, 'leaf_estimation_iterations': 15, 'one_hot_max_size': 3, 'subsample': 0.7187715937364773}. Best is trial 65 with value: 0.6438776482546136.\u001b[0m\n",
            "\u001b[32m[I 2022-01-05 02:36:00,773]\u001b[0m Trial 73 finished with value: 0.6410432482610409 and parameters: {'iterations': 579, 'objcetive': 'CrossEntropy', 'bootstrap_type': 'Bernoulli', 'od_wait': 764, 'learning_rate': 0.11613423719822302, 'reg_lambda': 50.92283415217754, 'random_strength': 31.424377847272158, 'depth': 7, 'min_data_in_leaf': 19, 'leaf_estimation_iterations': 15, 'one_hot_max_size': 3, 'subsample': 0.6358768291941036}. Best is trial 65 with value: 0.6438776482546136.\u001b[0m\n",
            "\u001b[32m[I 2022-01-05 02:36:55,836]\u001b[0m Trial 74 finished with value: 0.6398692391513364 and parameters: {'iterations': 1087, 'objcetive': 'CrossEntropy', 'bootstrap_type': 'Bernoulli', 'od_wait': 700, 'learning_rate': 0.19417990751763806, 'reg_lambda': 47.07075343235506, 'random_strength': 32.62093996105603, 'depth': 10, 'min_data_in_leaf': 13, 'leaf_estimation_iterations': 15, 'one_hot_max_size': 2, 'subsample': 0.8341090528099754}. Best is trial 65 with value: 0.6438776482546136.\u001b[0m\n",
            "\u001b[32m[I 2022-01-05 02:37:16,609]\u001b[0m Trial 75 finished with value: 0.6367253904484188 and parameters: {'iterations': 885, 'objcetive': 'CrossEntropy', 'bootstrap_type': 'Bernoulli', 'od_wait': 782, 'learning_rate': 0.0486130697281919, 'reg_lambda': 43.49502636944921, 'random_strength': 31.19009444955703, 'depth': 6, 'min_data_in_leaf': 4, 'leaf_estimation_iterations': 14, 'one_hot_max_size': 3, 'subsample': 0.701965339482043}. Best is trial 65 with value: 0.6438776482546136.\u001b[0m\n",
            "\u001b[32m[I 2022-01-05 02:37:45,605]\u001b[0m Trial 76 finished with value: 0.643682704015606 and parameters: {'iterations': 979, 'objcetive': 'CrossEntropy', 'bootstrap_type': 'Bernoulli', 'od_wait': 806, 'learning_rate': 0.1565719902057435, 'reg_lambda': 37.502709071449424, 'random_strength': 33.54299668919598, 'depth': 8, 'min_data_in_leaf': 7, 'leaf_estimation_iterations': 15, 'one_hot_max_size': 3, 'subsample': 0.5780588706811318}. Best is trial 65 with value: 0.6438776482546136.\u001b[0m\n",
            "\u001b[32m[I 2022-01-05 02:38:18,208]\u001b[0m Trial 77 finished with value: 0.6353281109541544 and parameters: {'iterations': 989, 'objcetive': 'CrossEntropy', 'bootstrap_type': 'Bayesian', 'od_wait': 799, 'learning_rate': 0.15331710956273112, 'reg_lambda': 36.40958627037297, 'random_strength': 33.523334522150776, 'depth': 8, 'min_data_in_leaf': 7, 'leaf_estimation_iterations': 15, 'one_hot_max_size': 3, 'bagging_temperature': 2.2232788448869694}. Best is trial 65 with value: 0.6438776482546136.\u001b[0m\n",
            "\u001b[32m[I 2022-01-05 02:38:48,420]\u001b[0m Trial 78 finished with value: 0.6413774206498397 and parameters: {'iterations': 1193, 'objcetive': 'CrossEntropy', 'bootstrap_type': 'Bernoulli', 'od_wait': 750, 'learning_rate': 0.23123428222126916, 'reg_lambda': 40.499189431210986, 'random_strength': 30.284027163775818, 'depth': 7, 'min_data_in_leaf': 8, 'leaf_estimation_iterations': 15, 'one_hot_max_size': 2, 'subsample': 0.5897442984689}. Best is trial 65 with value: 0.6438776482546136.\u001b[0m\n",
            "\u001b[32m[I 2022-01-05 02:39:17,280]\u001b[0m Trial 79 finished with value: 0.6421736486702723 and parameters: {'iterations': 973, 'objcetive': 'CrossEntropy', 'bootstrap_type': 'Bernoulli', 'od_wait': 772, 'learning_rate': 0.13468255739118207, 'reg_lambda': 33.39435041846886, 'random_strength': 34.56815257646053, 'depth': 9, 'min_data_in_leaf': 10, 'leaf_estimation_iterations': 8, 'one_hot_max_size': 3, 'subsample': 0.5068347629187953}. Best is trial 65 with value: 0.6438776482546136.\u001b[0m\n",
            "\u001b[32m[I 2022-01-05 02:39:33,908]\u001b[0m Trial 80 finished with value: 0.6425496582998019 and parameters: {'iterations': 849, 'objcetive': 'CrossEntropy', 'bootstrap_type': 'Bernoulli', 'od_wait': 805, 'learning_rate': 0.27716630619563287, 'reg_lambda': 26.22401762787826, 'random_strength': 32.865518540704144, 'depth': 6, 'min_data_in_leaf': 6, 'leaf_estimation_iterations': 7, 'one_hot_max_size': 3, 'subsample': 0.5819703862344443}. Best is trial 65 with value: 0.6438776482546136.\u001b[0m\n",
            "\u001b[32m[I 2022-01-05 02:39:50,819]\u001b[0m Trial 81 finished with value: 0.6408051842024697 and parameters: {'iterations': 860, 'objcetive': 'CrossEntropy', 'bootstrap_type': 'Bernoulli', 'od_wait': 810, 'learning_rate': 0.2774534005437867, 'reg_lambda': 29.026734413461945, 'random_strength': 31.748485856571985, 'depth': 6, 'min_data_in_leaf': 6, 'leaf_estimation_iterations': 7, 'one_hot_max_size': 3, 'subsample': 0.5357281287807785}. Best is trial 65 with value: 0.6438776482546136.\u001b[0m\n",
            "\u001b[32m[I 2022-01-05 02:40:04,667]\u001b[0m Trial 82 finished with value: 0.6398033960029796 and parameters: {'iterations': 796, 'objcetive': 'CrossEntropy', 'bootstrap_type': 'Bernoulli', 'od_wait': 842, 'learning_rate': 0.1816317580553192, 'reg_lambda': 24.341376727306947, 'random_strength': 32.876737417818624, 'depth': 5, 'min_data_in_leaf': 9, 'leaf_estimation_iterations': 5, 'one_hot_max_size': 3, 'subsample': 0.5843141791060544}. Best is trial 65 with value: 0.6438776482546136.\u001b[0m\n",
            "\u001b[32m[I 2022-01-05 02:40:18,473]\u001b[0m Trial 83 finished with value: 0.6422861966210944 and parameters: {'iterations': 636, 'objcetive': 'CrossEntropy', 'bootstrap_type': 'Bernoulli', 'od_wait': 787, 'learning_rate': 0.24687365817788864, 'reg_lambda': 38.313030504306546, 'random_strength': 35.04489475919931, 'depth': 6, 'min_data_in_leaf': 7, 'leaf_estimation_iterations': 6, 'one_hot_max_size': 3, 'subsample': 0.7945369603462713}. Best is trial 65 with value: 0.6438776482546136.\u001b[0m\n",
            "\u001b[32m[I 2022-01-05 02:40:35,681]\u001b[0m Trial 84 finished with value: 0.6383038472339231 and parameters: {'iterations': 1001, 'objcetive': 'CrossEntropy', 'bootstrap_type': 'Bernoulli', 'od_wait': 858, 'learning_rate': 0.10061235511953609, 'reg_lambda': 26.479843169119988, 'random_strength': 37.86722988152704, 'depth': 4, 'min_data_in_leaf': 8, 'leaf_estimation_iterations': 8, 'one_hot_max_size': 3, 'subsample': 0.6282595563800691}. Best is trial 65 with value: 0.6438776482546136.\u001b[0m\n",
            "\u001b[32m[I 2022-01-05 02:40:58,688]\u001b[0m Trial 85 finished with value: 0.6420955387043382 and parameters: {'iterations': 899, 'objcetive': 'CrossEntropy', 'bootstrap_type': 'Bernoulli', 'od_wait': 756, 'learning_rate': 0.2116121144582989, 'reg_lambda': 44.427157705354034, 'random_strength': 27.810090390150766, 'depth': 8, 'min_data_in_leaf': 6, 'leaf_estimation_iterations': 7, 'one_hot_max_size': 3, 'subsample': 0.6826058241072522}. Best is trial 65 with value: 0.6438776482546136.\u001b[0m\n",
            "\u001b[32m[I 2022-01-05 02:41:25,874]\u001b[0m Trial 86 finished with value: 0.6367979358003244 and parameters: {'iterations': 1405, 'objcetive': 'CrossEntropy', 'bootstrap_type': 'Bernoulli', 'od_wait': 823, 'learning_rate': 0.3430060436997356, 'reg_lambda': 57.987468908933835, 'random_strength': 30.549983503693394, 'depth': 7, 'min_data_in_leaf': 17, 'leaf_estimation_iterations': 15, 'one_hot_max_size': 3, 'subsample': 0.5138134711887046}. Best is trial 65 with value: 0.6438776482546136.\u001b[0m\n",
            "\u001b[32m[I 2022-01-05 02:41:44,864]\u001b[0m Trial 87 finished with value: 0.6122859760267345 and parameters: {'iterations': 1078, 'objcetive': 'CrossEntropy', 'bootstrap_type': 'MVS', 'od_wait': 800, 'learning_rate': 0.39699489515108216, 'reg_lambda': 21.204275511494583, 'random_strength': 33.192033929791464, 'depth': 5, 'min_data_in_leaf': 7, 'leaf_estimation_iterations': 13, 'one_hot_max_size': 2}. Best is trial 65 with value: 0.6438776482546136.\u001b[0m\n",
            "\u001b[32m[I 2022-01-05 02:42:21,443]\u001b[0m Trial 88 finished with value: 0.6357713473032793 and parameters: {'iterations': 1158, 'objcetive': 'CrossEntropy', 'bootstrap_type': 'Bernoulli', 'od_wait': 729, 'learning_rate': 0.31538183981225, 'reg_lambda': 34.9964214241817, 'random_strength': 29.667200703933126, 'depth': 9, 'min_data_in_leaf': 19, 'leaf_estimation_iterations': 14, 'one_hot_max_size': 3, 'subsample': 0.7191115281588295}. Best is trial 65 with value: 0.6438776482546136.\u001b[0m\n",
            "\u001b[32m[I 2022-01-05 02:42:34,975]\u001b[0m Trial 89 finished with value: 0.6331757792539601 and parameters: {'iterations': 798, 'objcetive': 'CrossEntropy', 'bootstrap_type': 'Bernoulli', 'od_wait': 771, 'learning_rate': 0.15408400188250918, 'reg_lambda': 47.614830832623014, 'random_strength': 28.863648631148084, 'depth': 3, 'min_data_in_leaf': 10, 'leaf_estimation_iterations': 9, 'one_hot_max_size': 3, 'subsample': 0.5619180886635446}. Best is trial 65 with value: 0.6438776482546136.\u001b[0m\n",
            "\u001b[32m[I 2022-01-05 02:43:22,659]\u001b[0m Trial 90 finished with value: 0.6421349394502467 and parameters: {'iterations': 690, 'objcetive': 'CrossEntropy', 'bootstrap_type': 'Bernoulli', 'od_wait': 782, 'learning_rate': 0.10416378516131294, 'reg_lambda': 42.54104568143258, 'random_strength': 30.75370695199328, 'depth': 11, 'min_data_in_leaf': 9, 'leaf_estimation_iterations': 13, 'one_hot_max_size': 3, 'subsample': 0.9245477586134874}. Best is trial 65 with value: 0.6438776482546136.\u001b[0m\n",
            "\u001b[32m[I 2022-01-05 02:43:59,052]\u001b[0m Trial 91 finished with value: 0.6451838567303901 and parameters: {'iterations': 734, 'objcetive': 'CrossEntropy', 'bootstrap_type': 'Bernoulli', 'od_wait': 740, 'learning_rate': 0.06068981080026317, 'reg_lambda': 60.50907227706892, 'random_strength': 31.882298692915008, 'depth': 10, 'min_data_in_leaf': 2, 'leaf_estimation_iterations': 14, 'one_hot_max_size': 3, 'subsample': 0.8499776161152129}. Best is trial 91 with value: 0.6451838567303901.\u001b[0m\n",
            "\u001b[32m[I 2022-01-05 02:44:40,566]\u001b[0m Trial 92 finished with value: 0.644467793803929 and parameters: {'iterations': 842, 'objcetive': 'CrossEntropy', 'bootstrap_type': 'Bernoulli', 'od_wait': 742, 'learning_rate': 0.06845227025872719, 'reg_lambda': 60.468336363729925, 'random_strength': 32.26749910712953, 'depth': 10, 'min_data_in_leaf': 3, 'leaf_estimation_iterations': 14, 'one_hot_max_size': 3, 'subsample': 0.851351320338485}. Best is trial 91 with value: 0.6451838567303901.\u001b[0m\n",
            "\u001b[32m[I 2022-01-05 02:45:08,924]\u001b[0m Trial 93 finished with value: 0.6297715774950177 and parameters: {'iterations': 572, 'objcetive': 'CrossEntropy', 'bootstrap_type': 'Bernoulli', 'od_wait': 748, 'learning_rate': 0.02768155914534462, 'reg_lambda': 62.391372654820856, 'random_strength': 31.97813292056322, 'depth': 10, 'min_data_in_leaf': 3, 'leaf_estimation_iterations': 14, 'one_hot_max_size': 3, 'subsample': 0.8582880157496927}. Best is trial 91 with value: 0.6451838567303901.\u001b[0m\n",
            "\u001b[32m[I 2022-01-05 02:45:48,298]\u001b[0m Trial 94 finished with value: 0.644697881444973 and parameters: {'iterations': 773, 'objcetive': 'CrossEntropy', 'bootstrap_type': 'Bernoulli', 'od_wait': 739, 'learning_rate': 0.0711785463564466, 'reg_lambda': 68.64203040947477, 'random_strength': 35.579765324020876, 'depth': 10, 'min_data_in_leaf': 4, 'leaf_estimation_iterations': 15, 'one_hot_max_size': 3, 'subsample': 0.838976714077474}. Best is trial 91 with value: 0.6451838567303901.\u001b[0m\n",
            "\u001b[32m[I 2022-01-05 02:47:04,579]\u001b[0m Trial 95 finished with value: 0.623539749819084 and parameters: {'iterations': 929, 'objcetive': 'CrossEntropy', 'bootstrap_type': 'Bayesian', 'od_wait': 737, 'learning_rate': 0.0732542098423362, 'reg_lambda': 66.4709364548266, 'random_strength': 34.54700894242943, 'depth': 11, 'min_data_in_leaf': 4, 'leaf_estimation_iterations': 14, 'one_hot_max_size': 3, 'bagging_temperature': 7.649248525170048}. Best is trial 91 with value: 0.6451838567303901.\u001b[0m\n",
            "\u001b[32m[I 2022-01-05 02:48:22,280]\u001b[0m Trial 96 finished with value: 0.6414418347822737 and parameters: {'iterations': 667, 'objcetive': 'CrossEntropy', 'bootstrap_type': 'Bernoulli', 'od_wait': 723, 'learning_rate': 0.13225508395123295, 'reg_lambda': 72.51175694261985, 'random_strength': 35.614957550402195, 'depth': 12, 'min_data_in_leaf': 2, 'leaf_estimation_iterations': 15, 'one_hot_max_size': 3, 'subsample': 0.9444866455959073}. Best is trial 91 with value: 0.6451838567303901.\u001b[0m\n",
            "\u001b[32m[I 2022-01-05 02:49:10,503]\u001b[0m Trial 97 finished with value: 0.6417440328851503 and parameters: {'iterations': 1020, 'objcetive': 'CrossEntropy', 'bootstrap_type': 'Bernoulli', 'od_wait': 704, 'learning_rate': 0.02866594671732771, 'reg_lambda': 71.53874913071536, 'random_strength': 37.3701249720289, 'depth': 10, 'min_data_in_leaf': 18, 'leaf_estimation_iterations': 13, 'one_hot_max_size': 4, 'subsample': 0.9083172625738398}. Best is trial 91 with value: 0.6451838567303901.\u001b[0m\n",
            "\u001b[32m[I 2022-01-05 02:50:05,503]\u001b[0m Trial 98 finished with value: 0.6468582500015934 and parameters: {'iterations': 1100, 'objcetive': 'CrossEntropy', 'bootstrap_type': 'Bernoulli', 'od_wait': 739, 'learning_rate': 0.0712062295412846, 'reg_lambda': 68.24093295080826, 'random_strength': 39.1425811871665, 'depth': 10, 'min_data_in_leaf': 12, 'leaf_estimation_iterations': 14, 'one_hot_max_size': 1, 'subsample': 0.9761466040433332}. Best is trial 98 with value: 0.6468582500015934.\u001b[0m\n",
            "\u001b[32m[I 2022-01-05 02:50:47,192]\u001b[0m Trial 99 finished with value: 0.6448364323863239 and parameters: {'iterations': 829, 'objcetive': 'CrossEntropy', 'bootstrap_type': 'Bernoulli', 'od_wait': 737, 'learning_rate': 0.06108241004477756, 'reg_lambda': 76.48946518096315, 'random_strength': 35.87178392295873, 'depth': 10, 'min_data_in_leaf': 5, 'leaf_estimation_iterations': 14, 'one_hot_max_size': 2, 'subsample': 0.967890310935178}. Best is trial 98 with value: 0.6468582500015934.\u001b[0m\n"
          ]
        }
      ]
    },
    {
      "cell_type": "code",
      "source": [
        "Best_params = study.best_trial.params\n",
        "dic2 = {\"task_type\":'GPU',\"eval_metric\":'F1',\"cat_features\":cat_features,\"one_hot_max_size\":4}\n",
        "Best_params.update(dic2)\n",
        "print(f\"Best Trial: {study.best_trial.value}\")\n",
        "print(f\"Best Params: {study.best_trial.params}\")"
      ],
      "metadata": {
        "colab": {
          "base_uri": "https://localhost:8080/"
        },
        "id": "d6K_mqxn38Ih",
        "outputId": "12e346b4-9c9d-4f56-f7d6-d74c39755001"
      },
      "execution_count": 21,
      "outputs": [
        {
          "output_type": "stream",
          "name": "stdout",
          "text": [
            "Best Trial: 0.6468582500015934\n",
            "Best Params: {'iterations': 1100, 'objcetive': 'CrossEntropy', 'bootstrap_type': 'Bernoulli', 'od_wait': 739, 'learning_rate': 0.0712062295412846, 'reg_lambda': 68.24093295080826, 'random_strength': 39.1425811871665, 'depth': 10, 'min_data_in_leaf': 12, 'leaf_estimation_iterations': 14, 'one_hot_max_size': 1, 'subsample': 0.9761466040433332}\n"
          ]
        }
      ]
    },
    {
      "cell_type": "markdown",
      "metadata": {
        "id": "zYIwgT3loHo_"
      },
      "source": [
        "### catboost 진행"
      ]
    },
    {
      "cell_type": "code",
      "execution_count": 15,
      "metadata": {
        "id": "JBUAxqdQpC5Q"
      },
      "outputs": [],
      "source": [
        "best_params= {'iterations': 1100, 'objective': 'CrossEntropy', \n",
        "              'bootstrap_type': 'Bernoulli', 'od_wait': 739, 'learning_rate': 0.0712062295412846, \n",
        "              'reg_lambda': 68.24093295080826, 'random_strength': 39.1425811871665,\n",
        "              'depth': 10, 'min_data_in_leaf': 12, 'leaf_estimation_iterations': 14, 'one_hot_max_size': 1,\n",
        "              'subsample': 0.9761466040433332,\n",
        "               \"cat_features\": cat_features,\n",
        "               \"eval_metric\":'F1',\n",
        "               'task_type' : 'GPU'}"
      ]
    },
    {
      "cell_type": "code",
      "execution_count": null,
      "metadata": {
        "colab": {
          "base_uri": "https://localhost:8080/"
        },
        "id": "frT0mbeDp_nv",
        "outputId": "00bfb859-78ec-47bc-a6b4-4a09c72d0fb7"
      },
      "outputs": [
        {
          "output_type": "stream",
          "name": "stdout",
          "text": [
            "0:\tlearn: 0.6058201\ttest: 0.6113634\tbest: 0.6113634 (0)\ttotal: 658ms\tremaining: 12m 2s\n",
            "100:\tlearn: 0.6669303\ttest: 0.6730766\tbest: 0.6731209 (99)\ttotal: 49.7s\tremaining: 8m 11s\n",
            "200:\tlearn: 0.6794327\ttest: 0.6745398\tbest: 0.6760002 (178)\ttotal: 1m 43s\tremaining: 7m 45s\n",
            "300:\tlearn: 0.6910901\ttest: 0.6713445\tbest: 0.6760002 (178)\ttotal: 2m 32s\tremaining: 6m 44s\n",
            "400:\tlearn: 0.7002310\ttest: 0.6729199\tbest: 0.6760002 (178)\ttotal: 3m 18s\tremaining: 5m 46s\n",
            "500:\tlearn: 0.7081771\ttest: 0.6747501\tbest: 0.6760002 (178)\ttotal: 4m\tremaining: 4m 47s\n",
            "600:\tlearn: 0.7156074\ttest: 0.6743849\tbest: 0.6760002 (178)\ttotal: 4m 43s\tremaining: 3m 55s\n",
            "bestTest = 0.6760001557\n",
            "bestIteration = 178\n",
            "Shrink model to first 179 iterations.\n",
            "0:\tlearn: 0.6021406\ttest: 0.6043634\tbest: 0.6043634 (0)\ttotal: 557ms\tremaining: 10m 12s\n",
            "100:\tlearn: 0.6678608\ttest: 0.6673210\tbest: 0.6678660 (83)\ttotal: 50.4s\tremaining: 8m 18s\n",
            "200:\tlearn: 0.6793286\ttest: 0.6703897\tbest: 0.6720598 (184)\ttotal: 1m 38s\tremaining: 7m 19s\n",
            "300:\tlearn: 0.6906009\ttest: 0.6682070\tbest: 0.6720598 (184)\ttotal: 2m 26s\tremaining: 6m 29s\n",
            "400:\tlearn: 0.7004484\ttest: 0.6703431\tbest: 0.6720598 (184)\ttotal: 3m 11s\tremaining: 5m 33s\n",
            "500:\tlearn: 0.7086034\ttest: 0.6727106\tbest: 0.6730779 (494)\ttotal: 3m 53s\tremaining: 4m 39s\n",
            "600:\tlearn: 0.7149186\ttest: 0.6736343\tbest: 0.6736343 (600)\ttotal: 4m 36s\tremaining: 3m 49s\n",
            "700:\tlearn: 0.7213151\ttest: 0.6742269\tbest: 0.6743531 (689)\ttotal: 5m 19s\tremaining: 3m 1s\n",
            "800:\tlearn: 0.7269841\ttest: 0.6738348\tbest: 0.6743531 (689)\ttotal: 6m 1s\tremaining: 2m 14s\n",
            "900:\tlearn: 0.7320353\ttest: 0.6747260\tbest: 0.6748828 (856)\ttotal: 6m 42s\tremaining: 1m 28s\n",
            "1000:\tlearn: 0.7374615\ttest: 0.6747078\tbest: 0.6755497 (944)\ttotal: 7m 24s\tremaining: 44s\n",
            "1099:\tlearn: 0.7424230\ttest: 0.6737044\tbest: 0.6755497 (944)\ttotal: 8m 5s\tremaining: 0us\n",
            "bestTest = 0.6755497409\n",
            "bestIteration = 944\n",
            "Shrink model to first 945 iterations.\n",
            "0:\tlearn: 0.6068521\ttest: 0.6056616\tbest: 0.6056616 (0)\ttotal: 560ms\tremaining: 10m 15s\n",
            "100:\tlearn: 0.6671620\ttest: 0.6708951\tbest: 0.6712070 (85)\ttotal: 50.5s\tremaining: 8m 19s\n",
            "200:\tlearn: 0.6791098\ttest: 0.6757006\tbest: 0.6769249 (190)\ttotal: 1m 38s\tremaining: 7m 21s\n",
            "300:\tlearn: 0.6909576\ttest: 0.6747868\tbest: 0.6769249 (190)\ttotal: 2m 26s\tremaining: 6m 29s\n",
            "400:\tlearn: 0.7013109\ttest: 0.6766168\tbest: 0.6773175 (349)\ttotal: 3m 11s\tremaining: 5m 33s\n",
            "500:\tlearn: 0.7106906\ttest: 0.6786341\tbest: 0.6792126 (491)\ttotal: 3m 54s\tremaining: 4m 40s\n",
            "600:\tlearn: 0.7186859\ttest: 0.6783126\tbest: 0.6792126 (491)\ttotal: 4m 38s\tremaining: 3m 51s\n",
            "700:\tlearn: 0.7256146\ttest: 0.6784936\tbest: 0.6792126 (491)\ttotal: 5m 21s\tremaining: 3m 3s\n",
            "800:\tlearn: 0.7320358\ttest: 0.6780157\tbest: 0.6792126 (491)\ttotal: 6m 3s\tremaining: 2m 15s\n",
            "900:\tlearn: 0.7380948\ttest: 0.6774550\tbest: 0.6792126 (491)\ttotal: 6m 46s\tremaining: 1m 29s\n",
            "bestTest = 0.6792125592\n",
            "bestIteration = 491\n",
            "Shrink model to first 492 iterations.\n",
            "0:\tlearn: 0.6049648\ttest: 0.6050359\tbest: 0.6050359 (0)\ttotal: 558ms\tremaining: 10m 12s\n",
            "100:\tlearn: 0.6659922\ttest: 0.6699727\tbest: 0.6713979 (85)\ttotal: 50.5s\tremaining: 8m 19s\n",
            "200:\tlearn: 0.6788301\ttest: 0.6708425\tbest: 0.6726939 (174)\ttotal: 1m 38s\tremaining: 7m 20s\n",
            "300:\tlearn: 0.6910879\ttest: 0.6699730\tbest: 0.6726939 (174)\ttotal: 2m 26s\tremaining: 6m 29s\n",
            "400:\tlearn: 0.7011802\ttest: 0.6742318\tbest: 0.6742865 (368)\ttotal: 3m 11s\tremaining: 5m 34s\n",
            "500:\tlearn: 0.7099232\ttest: 0.6748909\tbest: 0.6750508 (498)\ttotal: 3m 56s\tremaining: 4m 42s\n",
            "600:\tlearn: 0.7170165\ttest: 0.6756245\tbest: 0.6758379 (556)\ttotal: 4m 38s\tremaining: 3m 51s\n",
            "700:\tlearn: 0.7232378\ttest: 0.6756453\tbest: 0.6759744 (656)\ttotal: 5m 20s\tremaining: 3m 2s\n",
            "800:\tlearn: 0.7290023\ttest: 0.6749040\tbest: 0.6759744 (656)\ttotal: 6m 2s\tremaining: 2m 15s\n",
            "900:\tlearn: 0.7336149\ttest: 0.6742596\tbest: 0.6759744 (656)\ttotal: 6m 44s\tremaining: 1m 29s\n",
            "1000:\tlearn: 0.7387667\ttest: 0.6744535\tbest: 0.6759744 (656)\ttotal: 7m 26s\tremaining: 44.2s\n",
            "1099:\tlearn: 0.7442523\ttest: 0.6741242\tbest: 0.6759744 (656)\ttotal: 8m 7s\tremaining: 0us\n",
            "bestTest = 0.6759744037\n",
            "bestIteration = 656\n",
            "Shrink model to first 657 iterations.\n",
            "0:\tlearn: 0.6184780\ttest: 0.6087444\tbest: 0.6087444 (0)\ttotal: 473ms\tremaining: 8m 40s\n",
            "100:\tlearn: 0.6674429\ttest: 0.6629550\tbest: 0.6637300 (87)\ttotal: 51.7s\tremaining: 8m 31s\n",
            "200:\tlearn: 0.6791609\ttest: 0.6672536\tbest: 0.6688745 (177)\ttotal: 1m 39s\tremaining: 7m 25s\n",
            "300:\tlearn: 0.6903572\ttest: 0.6690871\tbest: 0.6690871 (300)\ttotal: 2m 27s\tremaining: 6m 32s\n",
            "400:\tlearn: 0.7009007\ttest: 0.6722123\tbest: 0.6726091 (392)\ttotal: 3m 11s\tremaining: 5m 34s\n",
            "500:\tlearn: 0.7084430\ttest: 0.6726133\tbest: 0.6728726 (475)\ttotal: 3m 54s\tremaining: 4m 40s\n",
            "600:\tlearn: 0.7151180\ttest: 0.6736296\tbest: 0.6739528 (570)\ttotal: 4m 37s\tremaining: 3m 50s\n",
            "700:\tlearn: 0.7206030\ttest: 0.6734965\tbest: 0.6739528 (570)\ttotal: 5m 19s\tremaining: 3m 1s\n",
            "800:\tlearn: 0.7270918\ttest: 0.6737724\tbest: 0.6740241 (731)\ttotal: 6m 2s\tremaining: 2m 15s\n",
            "900:\tlearn: 0.7318209\ttest: 0.6744788\tbest: 0.6748530 (888)\ttotal: 6m 44s\tremaining: 1m 29s\n",
            "1000:\tlearn: 0.7370689\ttest: 0.6743949\tbest: 0.6748530 (888)\ttotal: 7m 26s\tremaining: 44.2s\n",
            "1099:\tlearn: 0.7425009\ttest: 0.6749028\tbest: 0.6749028 (1099)\ttotal: 8m 9s\tremaining: 0us\n",
            "bestTest = 0.674902759\n",
            "bestIteration = 1099\n"
          ]
        }
      ],
      "source": [
        "scores = []\n",
        "models = []\n",
        "\n",
        "\n",
        "for tri, vai in cv.split(x_train):\n",
        "    preds = []\n",
        "    model = CatBoostClassifier(**best_params)\n",
        "    model.fit(x_train.iloc[tri], y_train[tri],\n",
        "            eval_set=[(x_train.iloc[vai], y_train[vai])],\n",
        "            early_stopping_rounds = 500,\n",
        "            verbose=100\n",
        "        )\n",
        "    models.append(model)\n",
        "    scores.append(model.get_best_score()[\"validation\"][\"F1\"])\n",
        "    if is_holdout:\n",
        "        break    "
      ]
    },
    {
      "cell_type": "code",
      "execution_count": null,
      "metadata": {
        "colab": {
          "base_uri": "https://localhost:8080/",
          "height": 73
        },
        "id": "-i7-cv45okPH",
        "outputId": "9c68e071-f7cd-4676-c67f-6d724a77a59f"
      },
      "outputs": [
        {
          "data": {
            "application/vnd.google.colaboratory.intrinsic+json": {
              "type": "string"
            },
            "text/plain": [
              "'scores = []\\nmodels = []\\n\\n\\nfor tri, vai in cv.split(x_train):\\n    preds = []\\n    model = CatBoostClassifier(iterations=2401, objective= \\'CrossEntropy\\', \\n              bootstrap_type= \\'MVS\\',od_wait= 623, learning_rate= 0.3250307462792831, \\n              reg_lambda= 73.41218413701267, random_strength= 22.46080042848193,\\n              depth= 1, min_data_in_leaf= 16, leaf_estimation_iterations= 15, one_hot_max_size= 5)\\n    model.fit(x_train.iloc[tri], y_train[tri],\\n            eval_set=[(x_train.iloc[vai], y_train[vai])],\\n            early_stopping_rounds = 500,\\n            verbose=100\\n        )\\n    models.append(model)\\n    scores.append(model.get_best_score()[\"validation\"][\"F1\"])\\n    if is_holdout:\\n        break    '"
            ]
          },
          "execution_count": 16,
          "metadata": {},
          "output_type": "execute_result"
        }
      ],
      "source": [
        "'''scores = []\n",
        "models = []\n",
        "\n",
        "\n",
        "for tri, vai in cv.split(x_train):\n",
        "    preds = []\n",
        "    model = CatBoostClassifier(iterations=2401, objective= 'CrossEntropy', \n",
        "              bootstrap_type= 'MVS',od_wait= 623, learning_rate= 0.3250307462792831, \n",
        "              reg_lambda= 73.41218413701267, random_strength= 22.46080042848193,\n",
        "              depth= 1, min_data_in_leaf= 16, leaf_estimation_iterations= 15, one_hot_max_size= 5)\n",
        "    model.fit(x_train.iloc[tri], y_train[tri],\n",
        "            eval_set=[(x_train.iloc[vai], y_train[vai])],\n",
        "            early_stopping_rounds = 500,\n",
        "            verbose=100\n",
        "        )\n",
        "    models.append(model)\n",
        "    scores.append(model.get_best_score()[\"validation\"][\"F1\"])\n",
        "    if is_holdout:\n",
        "        break    '''\n",
        "\n",
        "        "
      ]
    },
    {
      "cell_type": "code",
      "execution_count": 27,
      "metadata": {
        "colab": {
          "base_uri": "https://localhost:8080/"
        },
        "id": "HMEbeE-Gq9BC",
        "outputId": "21764dd9-ccea-428e-f567-0117f286cb5a"
      },
      "outputs": [
        {
          "output_type": "stream",
          "name": "stdout",
          "text": [
            "[0.6331433355875439, 0.6099732268715173, 0.6366636567766475, 0.6524674267692733, 0.6282777168335753]\n",
            "0.6321050725677114\n"
          ]
        }
      ],
      "source": [
        "print(scores)\n",
        "print(np.mean(scores))"
      ]
    },
    {
      "cell_type": "code",
      "execution_count": 28,
      "metadata": {
        "colab": {
          "base_uri": "https://localhost:8080/"
        },
        "id": "kd9ctVncrCDC",
        "outputId": "12a17e9a-d13d-40e4-9785-d3d33f8de277"
      },
      "outputs": [
        {
          "output_type": "stream",
          "name": "stdout",
          "text": [
            "[0.667476340275289, 0.6657983746104315, 0.6656653729597534, 0.6652839545566347, 0.6739349257304532]\n",
            "0.6676317936265124\n"
          ]
        }
      ],
      "source": [
        "threshold = 0.385\n",
        "pred_list = []\n",
        "scores = []\n",
        "for i,(tri, vai) in enumerate( cv.split(x_train) ):\n",
        "    pred = models[i].predict_proba(x_train.iloc[vai])[:, 1]\n",
        "    pred = np.where(pred >= threshold , 1, 0)\n",
        "    score = f1_score(y_train[vai],pred)\n",
        "    scores.append(score)\n",
        "    pred = models[i].predict_proba(x_test)[:, 1]\n",
        "    pred_list.append(pred)\n",
        "print(scores)\n",
        "print(np.mean(scores))"
      ]
    },
    {
      "cell_type": "code",
      "execution_count": null,
      "metadata": {
        "id": "Ui3gJk0-rEoY"
      },
      "outputs": [],
      "source": [
        "pred = np.mean( pred_list , axis = 0 )\n",
        "pred = np.where(pred >= threshold , 1, 0)"
      ]
    }
  ],
  "metadata": {
    "accelerator": "GPU",
    "colab": {
      "collapsed_sections": [],
      "name": "유진_feature_engineering_catboost_1.ipynb",
      "provenance": [],
      "include_colab_link": true
    },
    "kernelspec": {
      "display_name": "Python 3",
      "name": "python3"
    },
    "language_info": {
      "name": "python"
    }
  },
  "nbformat": 4,
  "nbformat_minor": 0
}